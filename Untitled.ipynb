{
 "cells": [
  {
   "cell_type": "code",
   "execution_count": 2,
   "metadata": {},
   "outputs": [
    {
     "name": "stderr",
     "output_type": "stream",
     "text": [
      "Using TensorFlow backend.\n"
     ]
    }
   ],
   "source": [
    "import pandas as pd\n",
    "import IPython\n",
    "import os\n",
    "import librosa\n",
    "import glob \n",
    "import matplotlib.pyplot as plt\n",
    "import librosa.display\n",
    "import numpy as np\n",
    "from keras.models import Sequential\n",
    "from keras.layers import Dense, Dropout, Activation, Flatten\n",
    "from keras.layers import Convolution2D, MaxPooling2D\n",
    "from keras.optimizers import Adam\n",
    "from keras.utils import np_utils\n",
    "from sklearn import metrics \n",
    "import keras\n",
    "from sklearn import preprocessing\n",
    "from keras.models import Sequential\n",
    "from keras.layers import Dense, Dropout, Flatten, Conv2D, MaxPooling2D\n",
    "from keras.utils import to_categorical\n",
    "from keras.callbacks import ModelCheckpoint\n",
    "from keras.utils import plot_model\n",
    "from sklearn.model_selection import train_test_split\n",
    "from scipy.io import wavfile as wv\n",
    "%matplotlib inline\n"
   ]
  },
  {
   "cell_type": "code",
   "execution_count": 3,
   "metadata": {},
   "outputs": [],
   "source": [
    "path_train = 'data/train_labels.csv'\n",
    "path_test = 'data/test_files.csv'"
   ]
  },
  {
   "cell_type": "code",
   "execution_count": 4,
   "metadata": {},
   "outputs": [],
   "source": [
    "df = pd.read_csv(path_train)\n",
    "df['filename'] = df['filename'].map(lambda x: 'data/data/%04d.wav' % x)"
   ]
  },
  {
   "cell_type": "code",
   "execution_count": 5,
   "metadata": {},
   "outputs": [
    {
     "name": "stdout",
     "output_type": "stream",
     "text": [
      "1532\n"
     ]
    },
    {
     "data": {
      "text/html": [
       "<div>\n",
       "<style scoped>\n",
       "    .dataframe tbody tr th:only-of-type {\n",
       "        vertical-align: middle;\n",
       "    }\n",
       "\n",
       "    .dataframe tbody tr th {\n",
       "        vertical-align: top;\n",
       "    }\n",
       "\n",
       "    .dataframe thead th {\n",
       "        text-align: right;\n",
       "    }\n",
       "</style>\n",
       "<table border=\"1\" class=\"dataframe\">\n",
       "  <thead>\n",
       "    <tr style=\"text-align: right;\">\n",
       "      <th></th>\n",
       "      <th>filename</th>\n",
       "      <th>pasture</th>\n",
       "      <th>height</th>\n",
       "      <th>label</th>\n",
       "    </tr>\n",
       "  </thead>\n",
       "  <tbody>\n",
       "    <tr>\n",
       "      <th>0</th>\n",
       "      <td>data/data/0004.wav</td>\n",
       "      <td>alfalfa</td>\n",
       "      <td>tall</td>\n",
       "      <td>2</td>\n",
       "    </tr>\n",
       "    <tr>\n",
       "      <th>1</th>\n",
       "      <td>data/data/0009.wav</td>\n",
       "      <td>alfalfa</td>\n",
       "      <td>tall</td>\n",
       "      <td>2</td>\n",
       "    </tr>\n",
       "  </tbody>\n",
       "</table>\n",
       "</div>"
      ],
      "text/plain": [
       "             filename  pasture height  label\n",
       "0  data/data/0004.wav  alfalfa   tall      2\n",
       "1  data/data/0009.wav  alfalfa   tall      2"
      ]
     },
     "execution_count": 5,
     "metadata": {},
     "output_type": "execute_result"
    }
   ],
   "source": [
    "print(len(df.index))\n",
    "df.head(2)"
   ]
  },
  {
   "cell_type": "code",
   "execution_count": null,
   "metadata": {},
   "outputs": [],
   "source": []
  },
  {
   "cell_type": "code",
   "execution_count": 6,
   "metadata": {},
   "outputs": [],
   "source": [
    "lb = preprocessing.LabelBinarizer()\n",
    "df['pasture'] = np_utils.to_categorical(lb.fit_transform(df['pasture']))\n",
    "df['height'] = np_utils.to_categorical(lb.fit_transform(df['height']))"
   ]
  },
  {
   "cell_type": "code",
   "execution_count": 7,
   "metadata": {},
   "outputs": [
    {
     "data": {
      "text/html": [
       "<div>\n",
       "<style scoped>\n",
       "    .dataframe tbody tr th:only-of-type {\n",
       "        vertical-align: middle;\n",
       "    }\n",
       "\n",
       "    .dataframe tbody tr th {\n",
       "        vertical-align: top;\n",
       "    }\n",
       "\n",
       "    .dataframe thead th {\n",
       "        text-align: right;\n",
       "    }\n",
       "</style>\n",
       "<table border=\"1\" class=\"dataframe\">\n",
       "  <thead>\n",
       "    <tr style=\"text-align: right;\">\n",
       "      <th></th>\n",
       "      <th>filename</th>\n",
       "      <th>pasture</th>\n",
       "      <th>height</th>\n",
       "      <th>label</th>\n",
       "    </tr>\n",
       "  </thead>\n",
       "  <tbody>\n",
       "    <tr>\n",
       "      <th>0</th>\n",
       "      <td>data/data/0004.wav</td>\n",
       "      <td>1.0</td>\n",
       "      <td>0.0</td>\n",
       "      <td>2</td>\n",
       "    </tr>\n",
       "    <tr>\n",
       "      <th>1</th>\n",
       "      <td>data/data/0009.wav</td>\n",
       "      <td>1.0</td>\n",
       "      <td>0.0</td>\n",
       "      <td>2</td>\n",
       "    </tr>\n",
       "  </tbody>\n",
       "</table>\n",
       "</div>"
      ],
      "text/plain": [
       "             filename  pasture  height  label\n",
       "0  data/data/0004.wav      1.0     0.0      2\n",
       "1  data/data/0009.wav      1.0     0.0      2"
      ]
     },
     "execution_count": 7,
     "metadata": {},
     "output_type": "execute_result"
    }
   ],
   "source": [
    "df.head(2)"
   ]
  },
  {
   "cell_type": "code",
   "execution_count": 8,
   "metadata": {},
   "outputs": [
    {
     "ename": "NameError",
     "evalue": "name 'filename' is not defined",
     "output_type": "error",
     "traceback": [
      "\u001b[0;31m---------------------------------------------------------------------------\u001b[0m",
      "\u001b[0;31mNameError\u001b[0m                                 Traceback (most recent call last)",
      "\u001b[0;32m<ipython-input-8-6b53bbdd6d83>\u001b[0m in \u001b[0;36m<module>\u001b[0;34m\u001b[0m\n\u001b[0;32m----> 1\u001b[0;31m \u001b[0mIPython\u001b[0m\u001b[0;34m.\u001b[0m\u001b[0mdisplay\u001b[0m\u001b[0;34m.\u001b[0m\u001b[0mAudio\u001b[0m\u001b[0;34m(\u001b[0m\u001b[0mfilename\u001b[0m\u001b[0;34m)\u001b[0m\u001b[0;34m\u001b[0m\u001b[0;34m\u001b[0m\u001b[0m\n\u001b[0m",
      "\u001b[0;31mNameError\u001b[0m: name 'filename' is not defined"
     ]
    }
   ],
   "source": [
    "IPython.display.Audio(filename)"
   ]
  },
  {
   "cell_type": "code",
   "execution_count": 65,
   "metadata": {},
   "outputs": [
    {
     "data": {
      "text/plain": [
       "<matplotlib.collections.PolyCollection at 0x7faee82bd4e0>"
      ]
     },
     "execution_count": 65,
     "metadata": {},
     "output_type": "execute_result"
    },
    {
     "data": {
      "image/png": "[encoded data removed]",
      "text/plain": [
       "<Figure size 864x288 with 1 Axes>"
      ]
     },
     "metadata": {
      "needs_background": "light"
     },
     "output_type": "display_data"
    }
   ],
   "source": [
    "data, sampling_rate = librosa.load(filename)\n",
    "plt.figure(figsize=(12, 4))\n",
    "librosa.display.waveplot(data, sr=sampling_rate)\n"
   ]
  },
  {
   "cell_type": "code",
   "execution_count": null,
   "metadata": {},
   "outputs": [],
   "source": []
  },
  {
   "cell_type": "code",
   "execution_count": 66,
   "metadata": {},
   "outputs": [
    {
     "data": {
      "text/html": [
       "<div>\n",
       "<style scoped>\n",
       "    .dataframe tbody tr th:only-of-type {\n",
       "        vertical-align: middle;\n",
       "    }\n",
       "\n",
       "    .dataframe tbody tr th {\n",
       "        vertical-align: top;\n",
       "    }\n",
       "\n",
       "    .dataframe thead th {\n",
       "        text-align: right;\n",
       "    }\n",
       "</style>\n",
       "<table border=\"1\" class=\"dataframe\">\n",
       "  <thead>\n",
       "    <tr style=\"text-align: right;\">\n",
       "      <th></th>\n",
       "      <th>filename</th>\n",
       "      <th>pasture</th>\n",
       "      <th>height</th>\n",
       "      <th>label</th>\n",
       "    </tr>\n",
       "  </thead>\n",
       "  <tbody>\n",
       "    <tr>\n",
       "      <th>0</th>\n",
       "      <td>data/data/0004.wav</td>\n",
       "      <td>1.0</td>\n",
       "      <td>0.0</td>\n",
       "      <td>2</td>\n",
       "    </tr>\n",
       "    <tr>\n",
       "      <th>1</th>\n",
       "      <td>data/data/0009.wav</td>\n",
       "      <td>1.0</td>\n",
       "      <td>0.0</td>\n",
       "      <td>2</td>\n",
       "    </tr>\n",
       "  </tbody>\n",
       "</table>\n",
       "</div>"
      ],
      "text/plain": [
       "             filename  pasture  height  label\n",
       "0  data/data/0004.wav      1.0     0.0      2\n",
       "1  data/data/0009.wav      1.0     0.0      2"
      ]
     },
     "execution_count": 66,
     "metadata": {},
     "output_type": "execute_result"
    }
   ],
   "source": [
    "df.head(2)"
   ]
  },
  {
   "cell_type": "code",
   "execution_count": 101,
   "metadata": {},
   "outputs": [],
   "source": [
    "import soundfile as sf\n"
   ]
  },
  {
   "cell_type": "code",
   "execution_count": null,
   "metadata": {},
   "outputs": [],
   "source": []
  },
  {
   "cell_type": "code",
   "execution_count": 102,
   "metadata": {},
   "outputs": [
    {
     "data": {
      "text/html": [
       "<div>\n",
       "<style scoped>\n",
       "    .dataframe tbody tr th:only-of-type {\n",
       "        vertical-align: middle;\n",
       "    }\n",
       "\n",
       "    .dataframe tbody tr th {\n",
       "        vertical-align: top;\n",
       "    }\n",
       "\n",
       "    .dataframe thead th {\n",
       "        text-align: right;\n",
       "    }\n",
       "</style>\n",
       "<table border=\"1\" class=\"dataframe\">\n",
       "  <thead>\n",
       "    <tr style=\"text-align: right;\">\n",
       "      <th></th>\n",
       "      <th>filename</th>\n",
       "      <th>pasture</th>\n",
       "      <th>height</th>\n",
       "      <th>label</th>\n",
       "      <th>feature</th>\n",
       "    </tr>\n",
       "  </thead>\n",
       "  <tbody>\n",
       "    <tr>\n",
       "      <th>0</th>\n",
       "      <td>data/data/0004.wav</td>\n",
       "      <td>1.0</td>\n",
       "      <td>0.0</td>\n",
       "      <td>2</td>\n",
       "      <td>[-395.90317, 134.29846, 51.110462, 39.986008, ...</td>\n",
       "    </tr>\n",
       "    <tr>\n",
       "      <th>1</th>\n",
       "      <td>data/data/0009.wav</td>\n",
       "      <td>1.0</td>\n",
       "      <td>0.0</td>\n",
       "      <td>2</td>\n",
       "      <td>[-369.43744, 158.50548, 30.44591, 38.92832, 3....</td>\n",
       "    </tr>\n",
       "  </tbody>\n",
       "</table>\n",
       "</div>"
      ],
      "text/plain": [
       "             filename  pasture  height  label  \\\n",
       "0  data/data/0004.wav      1.0     0.0      2   \n",
       "1  data/data/0009.wav      1.0     0.0      2   \n",
       "\n",
       "                                             feature  \n",
       "0  [-395.90317, 134.29846, 51.110462, 39.986008, ...  \n",
       "1  [-369.43744, 158.50548, 30.44591, 38.92832, 3....  "
      ]
     },
     "execution_count": 102,
     "metadata": {},
     "output_type": "execute_result"
    }
   ],
   "source": [
    "def parser(row):\n",
    "    file_name = row.filename\n",
    "    if file_name: \n",
    "        X, sample_rate = sf.read(file_name, dtype='float32')\n",
    "    # mfcc (mel-frequency cepstrum)\n",
    "    mfccs = librosa.feature.mfcc(y=X, sr=sample_rate, n_mfcc=40)\n",
    "    mfccs_scaled = np.mean(mfccs.T,axis=0)\n",
    "    return mfccs_scaled\n",
    "\n",
    "df['feature'] = df.apply(parser, axis=1)\n",
    "df.head(2)"
   ]
  },
  {
   "cell_type": "code",
   "execution_count": null,
   "metadata": {},
   "outputs": [],
   "source": []
  },
  {
   "cell_type": "code",
   "execution_count": 103,
   "metadata": {},
   "outputs": [],
   "source": [
    "X = np.array(df['feature'].tolist())\n",
    "y_ = np.array(df['label'].tolist())"
   ]
  },
  {
   "cell_type": "code",
   "execution_count": 104,
   "metadata": {},
   "outputs": [],
   "source": [
    "from keras.utils import to_categorical\n",
    "y = to_categorical(y_)"
   ]
  },
  {
   "cell_type": "code",
   "execution_count": 105,
   "metadata": {},
   "outputs": [
    {
     "data": {
      "text/plain": [
       "(1532, 40)"
      ]
     },
     "execution_count": 105,
     "metadata": {},
     "output_type": "execute_result"
    }
   ],
   "source": [
    "X.shape"
   ]
  },
  {
   "cell_type": "code",
   "execution_count": 108,
   "metadata": {},
   "outputs": [],
   "source": [
    "def build_model():\n",
    "    num_labels = len(np.unique(y_))\n",
    "    model = Sequential()\n",
    "    model.add(Dense(256,input_shape = (40,)))\n",
    "    model.add(Activation('relu'))\n",
    "    model.add(Dropout(0.5))\n",
    "\n",
    "    model.add(Dense(256,input_shape = (40,)))\n",
    "    model.add(Activation('relu'))\n",
    "    model.add(Dropout(0.5))\n",
    "\n",
    "    model.add(Dense(num_labels))\n",
    "    model.add(Activation('softmax'))\n",
    "    model.compile(loss = 'categorical_crossentropy',metrics=['accuracy'],optimizer='adam')\n",
    "    return model\n"
   ]
  },
  {
   "cell_type": "code",
   "execution_count": 107,
   "metadata": {},
   "outputs": [],
   "source": [
    "def build_model():\n",
    "    num_labels = len(np.unique(y_))\n",
    "    filter_size = 2\n",
    "\n",
    "    # build model\n",
    "    model = Sequential()\n",
    "\n",
    "    model.add(Dense(256, input_shape=(17642,)))\n",
    "    model.add(Activation('relu'))\n",
    "    model.add(Dropout(0.5))\n",
    "\n",
    "    model.add(Dense(256))\n",
    "    model.add(Activation('relu'))\n",
    "    model.add(Dropout(0.5))\n",
    "\n",
    "    model.add(Dense(num_labels))\n",
    "    model.add(Activation('softmax'))\n",
    "\n",
    "    model.compile(loss='categorical_crossentropy', metrics=['accuracy'], optimizer='adam')\n",
    "    return model"
   ]
  },
  {
   "cell_type": "code",
   "execution_count": 143,
   "metadata": {},
   "outputs": [],
   "source": [
    "CLASSES_NUM = len(np.unique(y_))\n",
    "def build_model():\n",
    "    model = Sequential()\n",
    "    model.add(Conv2D(32, kernel_size=(2, 2), activation='relu', input_shape=(20, 11, 1)))\n",
    "    model.add(Conv2D(32, kernel_size=(2, 2), activation='relu', input_shape=(20, 11, 1)))\n",
    "    model.add(Conv2D(32, kernel_size=(2, 2), activation='relu', input_shape=(20, 11, 1)))\n",
    "\n",
    "    model.add(MaxPooling2D(pool_size=(2, 2)))\n",
    "\n",
    "    model.add(Dropout(0.25))\n",
    "    model.add(Flatten())\n",
    "    model.add(Dense(256, activation='relu'))\n",
    "    model.add(Dense(128, activation='relu'))\n",
    "    model.add(Dense(128, activation='relu'))\n",
    "    model.add(Dropout(0.30))\n",
    "    model.add(Dense(64, activation='relu'))\n",
    "    model.add(Dense(64, activation='relu'))\n",
    "\n",
    "    model.add(Dropout(0.25))\n",
    "    model.add(Dense(CLASSES_NUM, activation='softmax'))\n",
    "\n",
    "    model.compile(\n",
    "        loss=keras.losses.categorical_crossentropy,\n",
    "        optimizer=keras.optimizers.Adadelta(),\n",
    "        metrics=['accuracy']\n",
    "    )\n",
    "    return model\n"
   ]
  },
  {
   "cell_type": "code",
   "execution_count": null,
   "metadata": {},
   "outputs": [],
   "source": []
  },
  {
   "cell_type": "code",
   "execution_count": 109,
   "metadata": {},
   "outputs": [],
   "source": [
    "model = build_model()"
   ]
  },
  {
   "cell_type": "code",
   "execution_count": 110,
   "metadata": {},
   "outputs": [],
   "source": [
    "def get_train_test(X,y):\n",
    "    X_train, X_test, y_train, y_test = train_test_split(X,y,test_size = 0.2, random_state = 42)\n",
    "    return  X_train, X_test, y_train, y_test\n",
    "#"
   ]
  },
  {
   "cell_type": "code",
   "execution_count": 111,
   "metadata": {},
   "outputs": [
    {
     "name": "stdout",
     "output_type": "stream",
     "text": [
      "_________________________________________________________________\n",
      "Layer (type)                 Output Shape              Param #   \n",
      "=================================================================\n",
      "dense_18 (Dense)             (None, 256)               10496     \n",
      "_________________________________________________________________\n",
      "activation_18 (Activation)   (None, 256)               0         \n",
      "_________________________________________________________________\n",
      "dropout_13 (Dropout)         (None, 256)               0         \n",
      "_________________________________________________________________\n",
      "dense_19 (Dense)             (None, 256)               65792     \n",
      "_________________________________________________________________\n",
      "activation_19 (Activation)   (None, 256)               0         \n",
      "_________________________________________________________________\n",
      "dropout_14 (Dropout)         (None, 256)               0         \n",
      "_________________________________________________________________\n",
      "dense_20 (Dense)             (None, 3)                 771       \n",
      "_________________________________________________________________\n",
      "activation_20 (Activation)   (None, 3)                 0         \n",
      "=================================================================\n",
      "Total params: 77,059\n",
      "Trainable params: 77,059\n",
      "Non-trainable params: 0\n",
      "_________________________________________________________________\n",
      "None\n",
      "training for 100 epochs with batch size 32\n",
      "Train on 1225 samples, validate on 307 samples\n",
      "Epoch 1/100\n",
      "1225/1225 [==============================] - 0s 404us/step - loss: 7.9301 - acc: 0.4792 - val_loss: 7.7703 - val_acc: 0.5179\n",
      "Epoch 2/100\n",
      "1225/1225 [==============================] - 0s 82us/step - loss: 7.2572 - acc: 0.5363 - val_loss: 7.7703 - val_acc: 0.5179\n",
      "Epoch 3/100\n",
      "1225/1225 [==============================] - 0s 81us/step - loss: 7.3345 - acc: 0.5437 - val_loss: 7.7703 - val_acc: 0.5179\n",
      "Epoch 4/100\n",
      "1225/1225 [==============================] - 0s 81us/step - loss: 7.3298 - acc: 0.5445 - val_loss: 7.7703 - val_acc: 0.5179\n",
      "Epoch 5/100\n",
      "1225/1225 [==============================] - 0s 85us/step - loss: 7.3288 - acc: 0.5453 - val_loss: 7.7703 - val_acc: 0.5179\n",
      "Epoch 6/100\n",
      "1225/1225 [==============================] - 0s 85us/step - loss: 7.3288 - acc: 0.5453 - val_loss: 7.7703 - val_acc: 0.5179\n",
      "Epoch 7/100\n",
      "1225/1225 [==============================] - 0s 87us/step - loss: 7.3288 - acc: 0.5453 - val_loss: 7.7703 - val_acc: 0.5179\n",
      "Epoch 8/100\n",
      "1225/1225 [==============================] - 0s 90us/step - loss: 7.3288 - acc: 0.5453 - val_loss: 7.7703 - val_acc: 0.5179\n",
      "Epoch 9/100\n",
      "1225/1225 [==============================] - 0s 86us/step - loss: 7.3288 - acc: 0.5453 - val_loss: 7.7703 - val_acc: 0.5179\n",
      "Epoch 10/100\n",
      "1225/1225 [==============================] - 0s 81us/step - loss: 7.3288 - acc: 0.5453 - val_loss: 7.7703 - val_acc: 0.5179\n",
      "Epoch 11/100\n",
      "1225/1225 [==============================] - 0s 84us/step - loss: 7.3288 - acc: 0.5453 - val_loss: 7.7703 - val_acc: 0.5179\n",
      "Epoch 12/100\n",
      "1225/1225 [==============================] - 0s 90us/step - loss: 7.3288 - acc: 0.5453 - val_loss: 7.7703 - val_acc: 0.5179\n",
      "Epoch 13/100\n",
      "1225/1225 [==============================] - 0s 88us/step - loss: 7.3288 - acc: 0.5453 - val_loss: 7.7703 - val_acc: 0.5179\n",
      "Epoch 14/100\n",
      "1225/1225 [==============================] - 0s 84us/step - loss: 7.3288 - acc: 0.5453 - val_loss: 7.7703 - val_acc: 0.5179\n",
      "Epoch 15/100\n",
      "1225/1225 [==============================] - 0s 84us/step - loss: 7.3288 - acc: 0.5453 - val_loss: 7.7703 - val_acc: 0.5179\n",
      "Epoch 16/100\n",
      "1225/1225 [==============================] - 0s 82us/step - loss: 7.3288 - acc: 0.5453 - val_loss: 7.7703 - val_acc: 0.5179\n",
      "Epoch 17/100\n",
      "1225/1225 [==============================] - 0s 90us/step - loss: 7.3288 - acc: 0.5453 - val_loss: 7.7703 - val_acc: 0.5179\n",
      "Epoch 18/100\n",
      "1225/1225 [==============================] - 0s 81us/step - loss: 7.3288 - acc: 0.5453 - val_loss: 7.7703 - val_acc: 0.5179\n",
      "Epoch 19/100\n",
      "1225/1225 [==============================] - 0s 83us/step - loss: 7.3288 - acc: 0.5453 - val_loss: 7.7703 - val_acc: 0.5179\n",
      "Epoch 20/100\n",
      "1225/1225 [==============================] - 0s 88us/step - loss: 7.3288 - acc: 0.5453 - val_loss: 7.7703 - val_acc: 0.5179\n",
      "Epoch 21/100\n",
      "1225/1225 [==============================] - 0s 87us/step - loss: 7.3288 - acc: 0.5453 - val_loss: 7.7703 - val_acc: 0.5179\n",
      "Epoch 22/100\n",
      "1225/1225 [==============================] - 0s 81us/step - loss: 7.3288 - acc: 0.5453 - val_loss: 7.7703 - val_acc: 0.5179\n",
      "Epoch 23/100\n",
      "1225/1225 [==============================] - 0s 78us/step - loss: 7.3288 - acc: 0.5453 - val_loss: 7.7703 - val_acc: 0.5179\n",
      "Epoch 24/100\n",
      "1225/1225 [==============================] - 0s 77us/step - loss: 7.3288 - acc: 0.5453 - val_loss: 7.7703 - val_acc: 0.5179\n",
      "Epoch 25/100\n",
      "1225/1225 [==============================] - 0s 85us/step - loss: 7.3288 - acc: 0.5453 - val_loss: 7.7703 - val_acc: 0.5179\n",
      "Epoch 26/100\n",
      "1225/1225 [==============================] - 0s 83us/step - loss: 7.3288 - acc: 0.5453 - val_loss: 7.7703 - val_acc: 0.5179\n",
      "Epoch 27/100\n",
      "1225/1225 [==============================] - 0s 83us/step - loss: 7.3288 - acc: 0.5453 - val_loss: 7.7703 - val_acc: 0.5179\n",
      "Epoch 28/100\n",
      "1225/1225 [==============================] - 0s 88us/step - loss: 7.3288 - acc: 0.5453 - val_loss: 7.7703 - val_acc: 0.5179\n",
      "Epoch 29/100\n",
      "1225/1225 [==============================] - 0s 87us/step - loss: 7.3288 - acc: 0.5453 - val_loss: 7.7703 - val_acc: 0.5179\n",
      "Epoch 30/100\n",
      "1225/1225 [==============================] - 0s 80us/step - loss: 7.3288 - acc: 0.5453 - val_loss: 7.7703 - val_acc: 0.5179\n",
      "Epoch 31/100\n",
      "1225/1225 [==============================] - 0s 84us/step - loss: 7.3288 - acc: 0.5453 - val_loss: 7.7703 - val_acc: 0.5179\n",
      "Epoch 32/100\n",
      "1225/1225 [==============================] - 0s 82us/step - loss: 7.3288 - acc: 0.5453 - val_loss: 7.7703 - val_acc: 0.5179\n",
      "Epoch 33/100\n",
      "1225/1225 [==============================] - 0s 80us/step - loss: 7.3288 - acc: 0.5453 - val_loss: 7.7703 - val_acc: 0.5179\n",
      "Epoch 34/100\n",
      "1225/1225 [==============================] - 0s 83us/step - loss: 7.3288 - acc: 0.5453 - val_loss: 7.7703 - val_acc: 0.5179\n",
      "Epoch 35/100\n",
      "1225/1225 [==============================] - 0s 87us/step - loss: 7.3288 - acc: 0.5453 - val_loss: 7.7703 - val_acc: 0.5179\n",
      "Epoch 36/100\n",
      "1225/1225 [==============================] - 0s 87us/step - loss: 7.3288 - acc: 0.5453 - val_loss: 7.7703 - val_acc: 0.5179\n",
      "Epoch 37/100\n",
      "1225/1225 [==============================] - 0s 83us/step - loss: 7.3288 - acc: 0.5453 - val_loss: 7.7703 - val_acc: 0.5179\n",
      "Epoch 38/100\n",
      "1225/1225 [==============================] - 0s 83us/step - loss: 7.3288 - acc: 0.5453 - val_loss: 7.7703 - val_acc: 0.5179\n",
      "Epoch 39/100\n",
      "1225/1225 [==============================] - 0s 90us/step - loss: 7.3288 - acc: 0.5453 - val_loss: 7.7703 - val_acc: 0.5179\n",
      "Epoch 40/100\n",
      "1225/1225 [==============================] - 0s 83us/step - loss: 7.3288 - acc: 0.5453 - val_loss: 7.7703 - val_acc: 0.5179\n",
      "Epoch 41/100\n",
      "1225/1225 [==============================] - 0s 80us/step - loss: 7.3288 - acc: 0.5453 - val_loss: 7.7703 - val_acc: 0.5179\n",
      "Epoch 42/100\n",
      "1225/1225 [==============================] - 0s 80us/step - loss: 7.3288 - acc: 0.5453 - val_loss: 7.7703 - val_acc: 0.5179\n",
      "Epoch 43/100\n",
      "1225/1225 [==============================] - 0s 85us/step - loss: 7.3288 - acc: 0.5453 - val_loss: 7.7703 - val_acc: 0.5179\n",
      "Epoch 44/100\n",
      "1225/1225 [==============================] - 0s 84us/step - loss: 7.3288 - acc: 0.5453 - val_loss: 7.7703 - val_acc: 0.5179\n",
      "Epoch 45/100\n",
      "1225/1225 [==============================] - 0s 78us/step - loss: 7.3288 - acc: 0.5453 - val_loss: 7.7703 - val_acc: 0.5179\n",
      "Epoch 46/100\n",
      "1225/1225 [==============================] - 0s 78us/step - loss: 7.3092 - acc: 0.5461 - val_loss: 7.7703 - val_acc: 0.5179\n",
      "Epoch 47/100\n",
      "1225/1225 [==============================] - 0s 83us/step - loss: 7.3711 - acc: 0.5388 - val_loss: 7.7703 - val_acc: 0.5179\n",
      "Epoch 48/100\n",
      "1225/1225 [==============================] - 0s 86us/step - loss: 7.3288 - acc: 0.5453 - val_loss: 7.7703 - val_acc: 0.5179\n",
      "Epoch 49/100\n",
      "1225/1225 [==============================] - 0s 82us/step - loss: 7.3288 - acc: 0.5453 - val_loss: 7.7703 - val_acc: 0.5179\n",
      "Epoch 50/100\n",
      "1225/1225 [==============================] - 0s 79us/step - loss: 7.3288 - acc: 0.5453 - val_loss: 7.7703 - val_acc: 0.5179\n",
      "Epoch 51/100\n",
      "1225/1225 [==============================] - 0s 83us/step - loss: 7.3288 - acc: 0.5453 - val_loss: 7.7703 - val_acc: 0.5179\n",
      "Epoch 52/100\n",
      "1225/1225 [==============================] - 0s 84us/step - loss: 7.3288 - acc: 0.5453 - val_loss: 7.7703 - val_acc: 0.5179\n",
      "Epoch 53/100\n",
      "1225/1225 [==============================] - 0s 82us/step - loss: 7.3288 - acc: 0.5453 - val_loss: 7.7703 - val_acc: 0.5179\n",
      "Epoch 54/100\n",
      "1225/1225 [==============================] - 0s 67us/step - loss: 7.3288 - acc: 0.5453 - val_loss: 7.7703 - val_acc: 0.5179\n",
      "Epoch 55/100\n",
      "1225/1225 [==============================] - 0s 81us/step - loss: 7.3288 - acc: 0.5453 - val_loss: 7.7703 - val_acc: 0.5179\n",
      "Epoch 56/100\n",
      "1225/1225 [==============================] - 0s 83us/step - loss: 7.3288 - acc: 0.5453 - val_loss: 7.7703 - val_acc: 0.5179\n",
      "Epoch 57/100\n",
      "1225/1225 [==============================] - 0s 80us/step - loss: 7.3288 - acc: 0.5453 - val_loss: 7.7703 - val_acc: 0.5179\n",
      "Epoch 58/100\n",
      "1225/1225 [==============================] - 0s 85us/step - loss: 7.3288 - acc: 0.5453 - val_loss: 7.7703 - val_acc: 0.5179\n",
      "Epoch 59/100\n",
      "1225/1225 [==============================] - 0s 82us/step - loss: 7.3288 - acc: 0.5453 - val_loss: 7.7703 - val_acc: 0.5179\n",
      "Epoch 60/100\n",
      "1225/1225 [==============================] - 0s 88us/step - loss: 7.3288 - acc: 0.5453 - val_loss: 7.7703 - val_acc: 0.5179\n",
      "Epoch 61/100\n",
      "1225/1225 [==============================] - 0s 89us/step - loss: 7.3288 - acc: 0.5453 - val_loss: 7.7703 - val_acc: 0.5179\n",
      "Epoch 62/100\n",
      "1225/1225 [==============================] - 0s 86us/step - loss: 7.3288 - acc: 0.5453 - val_loss: 7.7703 - val_acc: 0.5179\n",
      "Epoch 63/100\n",
      "1225/1225 [==============================] - 0s 82us/step - loss: 7.3288 - acc: 0.5453 - val_loss: 7.7703 - val_acc: 0.5179\n",
      "Epoch 64/100\n",
      "1225/1225 [==============================] - 0s 84us/step - loss: 7.3288 - acc: 0.5453 - val_loss: 7.7703 - val_acc: 0.5179\n",
      "Epoch 65/100\n",
      "1225/1225 [==============================] - 0s 79us/step - loss: 7.3288 - acc: 0.5453 - val_loss: 7.7703 - val_acc: 0.5179\n",
      "Epoch 66/100\n",
      "1225/1225 [==============================] - 0s 85us/step - loss: 7.3288 - acc: 0.5453 - val_loss: 7.7703 - val_acc: 0.5179\n",
      "Epoch 67/100\n",
      "1225/1225 [==============================] - 0s 81us/step - loss: 7.3288 - acc: 0.5453 - val_loss: 7.7703 - val_acc: 0.5179\n",
      "Epoch 68/100\n",
      "1225/1225 [==============================] - 0s 88us/step - loss: 7.3288 - acc: 0.5453 - val_loss: 7.7703 - val_acc: 0.5179\n",
      "Epoch 69/100\n",
      "1225/1225 [==============================] - 0s 80us/step - loss: 7.3288 - acc: 0.5453 - val_loss: 7.7703 - val_acc: 0.5179\n",
      "Epoch 70/100\n",
      "1225/1225 [==============================] - 0s 85us/step - loss: 7.3288 - acc: 0.5453 - val_loss: 7.7703 - val_acc: 0.5179\n",
      "Epoch 71/100\n",
      "1225/1225 [==============================] - 0s 81us/step - loss: 7.3288 - acc: 0.5453 - val_loss: 7.7703 - val_acc: 0.5179\n",
      "Epoch 72/100\n",
      "1225/1225 [==============================] - 0s 87us/step - loss: 7.3288 - acc: 0.5453 - val_loss: 7.7703 - val_acc: 0.5179\n",
      "Epoch 73/100\n",
      "1225/1225 [==============================] - 0s 75us/step - loss: 7.3288 - acc: 0.5453 - val_loss: 7.7703 - val_acc: 0.5179\n",
      "Epoch 74/100\n",
      "1225/1225 [==============================] - 0s 84us/step - loss: 7.3288 - acc: 0.5453 - val_loss: 7.7703 - val_acc: 0.5179\n",
      "Epoch 75/100\n",
      "1225/1225 [==============================] - 0s 79us/step - loss: 7.3288 - acc: 0.5453 - val_loss: 7.7703 - val_acc: 0.5179\n",
      "Epoch 76/100\n",
      "1225/1225 [==============================] - 0s 77us/step - loss: 7.3288 - acc: 0.5453 - val_loss: 7.7703 - val_acc: 0.5179\n",
      "Epoch 77/100\n",
      "1225/1225 [==============================] - 0s 81us/step - loss: 7.3288 - acc: 0.5453 - val_loss: 7.7703 - val_acc: 0.5179\n",
      "Epoch 78/100\n",
      "1225/1225 [==============================] - 0s 79us/step - loss: 7.3288 - acc: 0.5453 - val_loss: 7.7703 - val_acc: 0.5179\n",
      "Epoch 79/100\n",
      "1225/1225 [==============================] - 0s 74us/step - loss: 7.3288 - acc: 0.5453 - val_loss: 7.7703 - val_acc: 0.5179\n",
      "Epoch 80/100\n",
      "1225/1225 [==============================] - 0s 79us/step - loss: 7.3288 - acc: 0.5453 - val_loss: 7.7703 - val_acc: 0.5179\n",
      "Epoch 81/100\n",
      "1225/1225 [==============================] - 0s 80us/step - loss: 7.3288 - acc: 0.5453 - val_loss: 7.7703 - val_acc: 0.5179\n",
      "Epoch 82/100\n",
      "1225/1225 [==============================] - 0s 80us/step - loss: 7.3288 - acc: 0.5453 - val_loss: 7.7703 - val_acc: 0.5179\n",
      "Epoch 83/100\n",
      "1225/1225 [==============================] - 0s 77us/step - loss: 7.3288 - acc: 0.5453 - val_loss: 7.7703 - val_acc: 0.5179\n",
      "Epoch 84/100\n",
      "1225/1225 [==============================] - 0s 77us/step - loss: 7.3288 - acc: 0.5453 - val_loss: 7.7703 - val_acc: 0.5179\n",
      "Epoch 85/100\n",
      "1225/1225 [==============================] - 0s 81us/step - loss: 7.3288 - acc: 0.5453 - val_loss: 7.7703 - val_acc: 0.5179\n",
      "Epoch 86/100\n",
      "1225/1225 [==============================] - 0s 81us/step - loss: 7.3288 - acc: 0.5453 - val_loss: 7.7703 - val_acc: 0.5179\n",
      "Epoch 87/100\n",
      "1225/1225 [==============================] - 0s 78us/step - loss: 7.3288 - acc: 0.5453 - val_loss: 7.7703 - val_acc: 0.5179\n",
      "Epoch 88/100\n",
      "1225/1225 [==============================] - 0s 82us/step - loss: 7.3288 - acc: 0.5453 - val_loss: 7.7703 - val_acc: 0.5179\n",
      "Epoch 89/100\n",
      "1225/1225 [==============================] - 0s 77us/step - loss: 7.3288 - acc: 0.5453 - val_loss: 7.7703 - val_acc: 0.5179\n",
      "Epoch 90/100\n",
      "1225/1225 [==============================] - 0s 77us/step - loss: 7.3288 - acc: 0.5453 - val_loss: 7.7703 - val_acc: 0.5179\n",
      "Epoch 91/100\n",
      "1225/1225 [==============================] - 0s 80us/step - loss: 7.3288 - acc: 0.5453 - val_loss: 7.7703 - val_acc: 0.5179\n",
      "Epoch 92/100\n",
      "1225/1225 [==============================] - 0s 77us/step - loss: 7.3288 - acc: 0.5453 - val_loss: 7.7703 - val_acc: 0.5179\n",
      "Epoch 93/100\n",
      "1225/1225 [==============================] - 0s 79us/step - loss: 7.3288 - acc: 0.5453 - val_loss: 7.7703 - val_acc: 0.5179\n",
      "Epoch 94/100\n",
      "1225/1225 [==============================] - 0s 82us/step - loss: 7.3288 - acc: 0.5453 - val_loss: 7.7703 - val_acc: 0.5179\n",
      "Epoch 95/100\n",
      "1225/1225 [==============================] - 0s 78us/step - loss: 7.3288 - acc: 0.5453 - val_loss: 7.7703 - val_acc: 0.5179\n",
      "Epoch 96/100\n",
      "1225/1225 [==============================] - 0s 76us/step - loss: 7.3288 - acc: 0.5453 - val_loss: 7.7703 - val_acc: 0.5179\n",
      "Epoch 97/100\n",
      "1225/1225 [==============================] - 0s 79us/step - loss: 7.3288 - acc: 0.5453 - val_loss: 7.7703 - val_acc: 0.5179\n",
      "Epoch 98/100\n",
      "1225/1225 [==============================] - 0s 80us/step - loss: 7.3288 - acc: 0.5453 - val_loss: 7.7703 - val_acc: 0.5179\n",
      "Epoch 99/100\n",
      "1225/1225 [==============================] - 0s 81us/step - loss: 7.3288 - acc: 0.5453 - val_loss: 7.7703 - val_acc: 0.5179\n",
      "Epoch 100/100\n",
      "1225/1225 [==============================] - 0s 81us/step - loss: 7.3288 - acc: 0.5453 - val_loss: 7.7703 - val_acc: 0.5179\n"
     ]
    },
    {
     "data": {
      "text/plain": [
       "<keras.callbacks.History at 0x7faea41e9f60>"
      ]
     },
     "execution_count": 111,
     "metadata": {},
     "output_type": "execute_result"
    }
   ],
   "source": [
    "#model.fit(X, y, batch_size=30, epochs=40, validation_split=0.1)\n",
    "X_train, X_test, y_train, y_test = get_train_test(X,y)\n",
    "print(model.summary())\n",
    "print(\"training for 100 epochs with batch size 32\")\n",
    "model.fit(X_train,y_train,batch_size= 32, epochs = 100, validation_data=(X_test,y_test))\n"
   ]
  },
  {
   "cell_type": "code",
   "execution_count": 112,
   "metadata": {},
   "outputs": [
    {
     "name": "stdout",
     "output_type": "stream",
     "text": [
      "307/307 [==============================] - 0s 31us/step\n"
     ]
    },
    {
     "data": {
      "text/plain": [
       "(7.770287131641897, 51.79153106111657)"
      ]
     },
     "execution_count": 112,
     "metadata": {},
     "output_type": "execute_result"
    }
   ],
   "source": [
    "def compute(X_test,y_test,model):\n",
    "    score = model.evaluate(X_test,y_test)\n",
    "    return score[0],score[1]*100\n",
    "compute(X_test, y_test,model)"
   ]
  },
  {
   "cell_type": "code",
   "execution_count": null,
   "metadata": {},
   "outputs": [],
   "source": []
  },
  {
   "cell_type": "code",
   "execution_count": null,
   "metadata": {},
   "outputs": [],
   "source": []
  },
  {
   "cell_type": "code",
   "execution_count": null,
   "metadata": {},
   "outputs": [],
   "source": []
  },
  {
   "cell_type": "code",
   "execution_count": null,
   "metadata": {},
   "outputs": [],
   "source": []
  }
 ],
 "metadata": {
  "kernelspec": {
   "display_name": "Python 3",
   "language": "python",
   "name": "python3"
  },
  "language_info": {
   "codemirror_mode": {
    "name": "ipython",
    "version": 3
   },
   "file_extension": ".py",
   "mimetype": "text/x-python",
   "name": "python",
   "nbconvert_exporter": "python",
   "pygments_lexer": "ipython3",
   "version": "3.7.4"
  }
 },
 "nbformat": 4,
 "nbformat_minor": 4
}
