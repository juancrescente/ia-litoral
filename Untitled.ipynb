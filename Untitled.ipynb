{
 "cells": [
  {
   "cell_type": "code",
   "execution_count": 96,
   "metadata": {},
   "outputs": [],
   "source": [
    "import pandas as pd\n",
    "import IPython\n",
    "import os\n",
    "import librosa\n",
    "import glob \n",
    "import matplotlib.pyplot as plt\n",
    "import librosa.display\n",
    "import numpy as np\n",
    "from keras.models import Sequential\n",
    "from keras.layers import Dense, Dropout, Activation, Flatten\n",
    "from keras.layers import Convolution2D, MaxPooling2D\n",
    "from keras.optimizers import Adam\n",
    "from keras.utils import np_utils\n",
    "from sklearn import metrics \n",
    "import keras\n",
    "from sklearn import preprocessing\n",
    "from keras.models import Sequential\n",
    "from keras.layers import Dense, Dropout, Flatten, Conv2D, MaxPooling2D\n",
    "from keras.utils import to_categorical\n",
    "from keras.callbacks import ModelCheckpoint\n",
    "from keras.utils import plot_model\n",
    "from sklearn.model_selection import train_test_split\n",
    "from scipy.io import wavfile as wv\n"
   ]
  },
  {
   "cell_type": "code",
   "execution_count": 59,
   "metadata": {},
   "outputs": [],
   "source": [
    "path_train = 'data/train_labels.csv'\n",
    "path_test = 'data/test_files.csv'"
   ]
  },
  {
   "cell_type": "code",
   "execution_count": 60,
   "metadata": {},
   "outputs": [],
   "source": [
    "df = pd.read_csv(path_train)\n",
    "df['filename'] = df['filename'].map(lambda x: 'data/data/%04d.wav' % x)"
   ]
  },
  {
   "cell_type": "code",
   "execution_count": 61,
   "metadata": {},
   "outputs": [
    {
     "name": "stdout",
     "output_type": "stream",
     "text": [
      "1532\n"
     ]
    },
    {
     "data": {
      "text/html": [
       "<div>\n",
       "<style scoped>\n",
       "    .dataframe tbody tr th:only-of-type {\n",
       "        vertical-align: middle;\n",
       "    }\n",
       "\n",
       "    .dataframe tbody tr th {\n",
       "        vertical-align: top;\n",
       "    }\n",
       "\n",
       "    .dataframe thead th {\n",
       "        text-align: right;\n",
       "    }\n",
       "</style>\n",
       "<table border=\"1\" class=\"dataframe\">\n",
       "  <thead>\n",
       "    <tr style=\"text-align: right;\">\n",
       "      <th></th>\n",
       "      <th>filename</th>\n",
       "      <th>pasture</th>\n",
       "      <th>height</th>\n",
       "      <th>label</th>\n",
       "    </tr>\n",
       "  </thead>\n",
       "  <tbody>\n",
       "    <tr>\n",
       "      <th>0</th>\n",
       "      <td>data/data/0004.wav</td>\n",
       "      <td>alfalfa</td>\n",
       "      <td>tall</td>\n",
       "      <td>2</td>\n",
       "    </tr>\n",
       "    <tr>\n",
       "      <th>1</th>\n",
       "      <td>data/data/0009.wav</td>\n",
       "      <td>alfalfa</td>\n",
       "      <td>tall</td>\n",
       "      <td>2</td>\n",
       "    </tr>\n",
       "  </tbody>\n",
       "</table>\n",
       "</div>"
      ],
      "text/plain": [
       "             filename  pasture height  label\n",
       "0  data/data/0004.wav  alfalfa   tall      2\n",
       "1  data/data/0009.wav  alfalfa   tall      2"
      ]
     },
     "execution_count": 61,
     "metadata": {},
     "output_type": "execute_result"
    }
   ],
   "source": [
    "print(len(df.index))\n",
    "df.head(2)"
   ]
  },
  {
   "cell_type": "code",
   "execution_count": null,
   "metadata": {},
   "outputs": [],
   "source": []
  },
  {
   "cell_type": "code",
   "execution_count": 62,
   "metadata": {},
   "outputs": [],
   "source": [
    "lb = preprocessing.LabelBinarizer()\n",
    "df['pasture'] = np_utils.to_categorical(lb.fit_transform(df['pasture']))\n",
    "df['height'] = np_utils.to_categorical(lb.fit_transform(df['height']))"
   ]
  },
  {
   "cell_type": "code",
   "execution_count": 63,
   "metadata": {},
   "outputs": [
    {
     "data": {
      "text/html": [
       "<div>\n",
       "<style scoped>\n",
       "    .dataframe tbody tr th:only-of-type {\n",
       "        vertical-align: middle;\n",
       "    }\n",
       "\n",
       "    .dataframe tbody tr th {\n",
       "        vertical-align: top;\n",
       "    }\n",
       "\n",
       "    .dataframe thead th {\n",
       "        text-align: right;\n",
       "    }\n",
       "</style>\n",
       "<table border=\"1\" class=\"dataframe\">\n",
       "  <thead>\n",
       "    <tr style=\"text-align: right;\">\n",
       "      <th></th>\n",
       "      <th>filename</th>\n",
       "      <th>pasture</th>\n",
       "      <th>height</th>\n",
       "      <th>label</th>\n",
       "    </tr>\n",
       "  </thead>\n",
       "  <tbody>\n",
       "    <tr>\n",
       "      <th>0</th>\n",
       "      <td>data/data/0004.wav</td>\n",
       "      <td>1.0</td>\n",
       "      <td>0.0</td>\n",
       "      <td>2</td>\n",
       "    </tr>\n",
       "    <tr>\n",
       "      <th>1</th>\n",
       "      <td>data/data/0009.wav</td>\n",
       "      <td>1.0</td>\n",
       "      <td>0.0</td>\n",
       "      <td>2</td>\n",
       "    </tr>\n",
       "  </tbody>\n",
       "</table>\n",
       "</div>"
      ],
      "text/plain": [
       "             filename  pasture  height  label\n",
       "0  data/data/0004.wav      1.0     0.0      2\n",
       "1  data/data/0009.wav      1.0     0.0      2"
      ]
     },
     "execution_count": 63,
     "metadata": {},
     "output_type": "execute_result"
    }
   ],
   "source": [
    "df.head(2)"
   ]
  },
  {
   "cell_type": "code",
   "execution_count": 64,
   "metadata": {},
   "outputs": [
    {
     "data": {
      "text/html": [
       "\n",
       "                <audio controls=\"controls\" >\n",
       "                    <source src=\"data:audio/x-wav;base64,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\" type=\"audio/x-wav\" />\n",
       "                    Your browser does not support the audio element.\n",
       "                </audio>\n",
       "              "
      ],
      "text/plain": [
       "<IPython.lib.display.Audio object>"
      ]
     },
     "execution_count": 64,
     "metadata": {},
     "output_type": "execute_result"
    }
   ],
   "source": [
    "IPython.display.Audio(filename)"
   ]
  },
  {
   "cell_type": "code",
   "execution_count": 65,
   "metadata": {},
   "outputs": [
    {
     "data": {
      "text/plain": [
       "<matplotlib.collections.PolyCollection at 0x7faee82bd4e0>"
      ]
     },
     "execution_count": 65,
     "metadata": {},
     "output_type": "execute_result"
    },
    {
     "data": {
      "image/png": "[encoded data removed]",
      "text/plain": [
       "<Figure size 864x288 with 1 Axes>"
      ]
     },
     "metadata": {
      "needs_background": "light"
     },
     "output_type": "display_data"
    }
   ],
   "source": [
    "data, sampling_rate = librosa.load(filename)\n",
    "plt.figure(figsize=(12, 4))\n",
    "librosa.display.waveplot(data, sr=sampling_rate)\n"
   ]
  },
  {
   "cell_type": "code",
   "execution_count": null,
   "metadata": {},
   "outputs": [],
   "source": []
  },
  {
   "cell_type": "code",
   "execution_count": 66,
   "metadata": {},
   "outputs": [
    {
     "data": {
      "text/html": [
       "<div>\n",
       "<style scoped>\n",
       "    .dataframe tbody tr th:only-of-type {\n",
       "        vertical-align: middle;\n",
       "    }\n",
       "\n",
       "    .dataframe tbody tr th {\n",
       "        vertical-align: top;\n",
       "    }\n",
       "\n",
       "    .dataframe thead th {\n",
       "        text-align: right;\n",
       "    }\n",
       "</style>\n",
       "<table border=\"1\" class=\"dataframe\">\n",
       "  <thead>\n",
       "    <tr style=\"text-align: right;\">\n",
       "      <th></th>\n",
       "      <th>filename</th>\n",
       "      <th>pasture</th>\n",
       "      <th>height</th>\n",
       "      <th>label</th>\n",
       "    </tr>\n",
       "  </thead>\n",
       "  <tbody>\n",
       "    <tr>\n",
       "      <th>0</th>\n",
       "      <td>data/data/0004.wav</td>\n",
       "      <td>1.0</td>\n",
       "      <td>0.0</td>\n",
       "      <td>2</td>\n",
       "    </tr>\n",
       "    <tr>\n",
       "      <th>1</th>\n",
       "      <td>data/data/0009.wav</td>\n",
       "      <td>1.0</td>\n",
       "      <td>0.0</td>\n",
       "      <td>2</td>\n",
       "    </tr>\n",
       "  </tbody>\n",
       "</table>\n",
       "</div>"
      ],
      "text/plain": [
       "             filename  pasture  height  label\n",
       "0  data/data/0004.wav      1.0     0.0      2\n",
       "1  data/data/0009.wav      1.0     0.0      2"
      ]
     },
     "execution_count": 66,
     "metadata": {},
     "output_type": "execute_result"
    }
   ],
   "source": [
    "df.head(2)"
   ]
  },
  {
   "cell_type": "code",
   "execution_count": 101,
   "metadata": {},
   "outputs": [],
   "source": [
    "import soundfile as sf\n"
   ]
  },
  {
   "cell_type": "code",
   "execution_count": null,
   "metadata": {},
   "outputs": [],
   "source": []
  },
  {
   "cell_type": "code",
   "execution_count": 102,
   "metadata": {},
   "outputs": [
    {
     "data": {
      "text/html": [
       "<div>\n",
       "<style scoped>\n",
       "    .dataframe tbody tr th:only-of-type {\n",
       "        vertical-align: middle;\n",
       "    }\n",
       "\n",
       "    .dataframe tbody tr th {\n",
       "        vertical-align: top;\n",
       "    }\n",
       "\n",
       "    .dataframe thead th {\n",
       "        text-align: right;\n",
       "    }\n",
       "</style>\n",
       "<table border=\"1\" class=\"dataframe\">\n",
       "  <thead>\n",
       "    <tr style=\"text-align: right;\">\n",
       "      <th></th>\n",
       "      <th>filename</th>\n",
       "      <th>pasture</th>\n",
       "      <th>height</th>\n",
       "      <th>label</th>\n",
       "      <th>feature</th>\n",
       "    </tr>\n",
       "  </thead>\n",
       "  <tbody>\n",
       "    <tr>\n",
       "      <th>0</th>\n",
       "      <td>data/data/0004.wav</td>\n",
       "      <td>1.0</td>\n",
       "      <td>0.0</td>\n",
       "      <td>2</td>\n",
       "      <td>[-395.90317, 134.29846, 51.110462, 39.986008, ...</td>\n",
       "    </tr>\n",
       "    <tr>\n",
       "      <th>1</th>\n",
       "      <td>data/data/0009.wav</td>\n",
       "      <td>1.0</td>\n",
       "      <td>0.0</td>\n",
       "      <td>2</td>\n",
       "      <td>[-369.43744, 158.50548, 30.44591, 38.92832, 3....</td>\n",
       "    </tr>\n",
       "  </tbody>\n",
       "</table>\n",
       "</div>"
      ],
      "text/plain": [
       "             filename  pasture  height  label  \\\n",
       "0  data/data/0004.wav      1.0     0.0      2   \n",
       "1  data/data/0009.wav      1.0     0.0      2   \n",
       "\n",
       "                                             feature  \n",
       "0  [-395.90317, 134.29846, 51.110462, 39.986008, ...  \n",
       "1  [-369.43744, 158.50548, 30.44591, 38.92832, 3....  "
      ]
     },
     "execution_count": 102,
     "metadata": {},
     "output_type": "execute_result"
    }
   ],
   "source": [
    "def parser(row):\n",
    "    file_name = row.filename\n",
    "    if file_name: \n",
    "        X, sample_rate = sf.read(file_name, dtype='float32')\n",
    "    # mfcc (mel-frequency cepstrum)\n",
    "    mfccs = librosa.feature.mfcc(y=X, sr=sample_rate, n_mfcc=40)\n",
    "    mfccs_scaled = np.mean(mfccs.T,axis=0)\n",
    "    return mfccs_scaled\n",
    "\n",
    "df['feature'] = df.apply(parser, axis=1)\n",
    "df.head(2)"
   ]
  },
  {
   "cell_type": "code",
   "execution_count": null,
   "metadata": {},
   "outputs": [],
   "source": []
  },
  {
   "cell_type": "code",
   "execution_count": 103,
   "metadata": {},
   "outputs": [],
   "source": [
    "X = np.array(df['feature'].tolist())\n",
    "y_ = np.array(df['label'].tolist())"
   ]
  },
  {
   "cell_type": "code",
   "execution_count": 104,
   "metadata": {},
   "outputs": [],
   "source": [
    "from keras.utils import to_categorical\n",
    "y = to_categorical(y_)"
   ]
  },
  {
   "cell_type": "code",
   "execution_count": 105,
   "metadata": {},
   "outputs": [
    {
     "data": {
      "text/plain": [
       "(1532, 40)"
      ]
     },
     "execution_count": 105,
     "metadata": {},
     "output_type": "execute_result"
    }
   ],
   "source": [
    "X.shape"
   ]
  },
  {
   "cell_type": "code",
   "execution_count": 108,
   "metadata": {},
   "outputs": [],
   "source": [
    "def build_model():\n",
    "    num_labels = len(np.unique(y_))\n",
    "    model = Sequential()\n",
    "    model.add(Dense(256,input_shape = (40,)))\n",
    "    model.add(Activation('relu'))\n",
    "    model.add(Dropout(0.5))\n",
    "\n",
    "    model.add(Dense(256,input_shape = (40,)))\n",
    "    model.add(Activation('relu'))\n",
    "    model.add(Dropout(0.5))\n",
    "\n",
    "    model.add(Dense(num_labels))\n",
    "    model.add(Activation('softmax'))\n",
    "    model.compile(loss = 'categorical_crossentropy',metrics=['accuracy'],optimizer='adam')\n",
    "    return model\n"
   ]
  },
  {
   "cell_type": "code",
   "execution_count": 107,
   "metadata": {},
   "outputs": [],
   "source": [
    "def build_model():\n",
    "    num_labels = len(np.unique(y_))\n",
    "    filter_size = 2\n",
    "\n",
    "    # build model\n",
    "    model = Sequential()\n",
    "\n",
    "    model.add(Dense(256, input_shape=(17642,)))\n",
    "    model.add(Activation('relu'))\n",
    "    model.add(Dropout(0.5))\n",
    "\n",
    "    model.add(Dense(256))\n",
    "    model.add(Activation('relu'))\n",
    "    model.add(Dropout(0.5))\n",
    "\n",
    "    model.add(Dense(num_labels))\n",
    "    model.add(Activation('softmax'))\n",
    "\n",
    "    model.compile(loss='categorical_crossentropy', metrics=['accuracy'], optimizer='adam')\n",
    "    return model"
   ]
  },
  {
   "cell_type": "code",
   "execution_count": 143,
   "metadata": {},
   "outputs": [],
   "source": [
    "CLASSES_NUM = len(np.unique(y_))\n",
    "def build_model():\n",
    "    model = Sequential()\n",
    "    model.add(Conv2D(32, kernel_size=(2, 2), activation='relu', input_shape=(20, 11, 1)))\n",
    "    model.add(Conv2D(32, kernel_size=(2, 2), activation='relu', input_shape=(20, 11, 1)))\n",
    "    model.add(Conv2D(32, kernel_size=(2, 2), activation='relu', input_shape=(20, 11, 1)))\n",
    "\n",
    "    model.add(MaxPooling2D(pool_size=(2, 2)))\n",
    "\n",
    "    model.add(Dropout(0.25))\n",
    "    model.add(Flatten())\n",
    "    model.add(Dense(256, activation='relu'))\n",
    "    model.add(Dense(128, activation='relu'))\n",
    "    model.add(Dense(128, activation='relu'))\n",
    "    model.add(Dropout(0.30))\n",
    "    model.add(Dense(64, activation='relu'))\n",
    "    model.add(Dense(64, activation='relu'))\n",
    "\n",
    "    model.add(Dropout(0.25))\n",
    "    model.add(Dense(CLASSES_NUM, activation='softmax'))\n",
    "\n",
    "    model.compile(\n",
    "        loss=keras.losses.categorical_crossentropy,\n",
    "        optimizer=keras.optimizers.Adadelta(),\n",
    "        metrics=['accuracy']\n",
    "    )\n",
    "    return model\n"
   ]
  },
  {
   "cell_type": "code",
   "execution_count": null,
   "metadata": {},
   "outputs": [],
   "source": []
  },
  {
   "cell_type": "code",
   "execution_count": 109,
   "metadata": {},
   "outputs": [],
   "source": [
    "model = build_model()"
   ]
  },
  {
   "cell_type": "code",
   "execution_count": 110,
   "metadata": {},
   "outputs": [],
   "source": [
    "def get_train_test(X,y):\n",
    "    X_train, X_test, y_train, y_test = train_test_split(X,y,test_size = 0.2, random_state = 42)\n",
    "    return  X_train, X_test, y_train, y_test\n",
    "#"
   ]
  },
  {
   "cell_type": "code",
   "execution_count": 111,
   "metadata": {},
   "outputs": [
    {
     "name": "stdout",
     "output_type": "stream",
     "text": [
      "_________________________________________________________________\n",
      "Layer (type)                 Output Shape              Param #   \n",
      "=================================================================\n",
      "dense_18 (Dense)             (None, 256)               10496     \n",
      "_________________________________________________________________\n",
      "activation_18 (Activation)   (None, 256)               0         \n",
      "_________________________________________________________________\n",
      "dropout_13 (Dropout)         (None, 256)               0         \n",
      "_________________________________________________________________\n",
      "dense_19 (Dense)             (None, 256)               65792     \n",
      "_________________________________________________________________\n",
      "activation_19 (Activation)   (None, 256)               0         \n",
      "_________________________________________________________________\n",
      "dropout_14 (Dropout)         (None, 256)               0         \n",
      "_________________________________________________________________\n",
      "dense_20 (Dense)             (None, 3)                 771       \n",
      "_________________________________________________________________\n",
      "activation_20 (Activation)   (None, 3)                 0         \n",
      "=================================================================\n",
      "Total params: 77,059\n",
      "Trainable params: 77,059\n",
      "Non-trainable params: 0\n",
      "_________________________________________________________________\n",
      "None\n",
      "training for 100 epochs with batch size 32\n",
      "Train on 1225 samples, validate on 307 samples\n",
      "Epoch 1/100\n",
      "1225/1225 [==============================] - 0s 404us/step - loss: 7.9301 - acc: 0.4792 - val_loss: 7.7703 - val_acc: 0.5179\n",
      "Epoch 2/100\n",
      "1225/1225 [==============================] - 0s 82us/step - loss: 7.2572 - acc: 0.5363 - val_loss: 7.7703 - val_acc: 0.5179\n",
      "Epoch 3/100\n",
      "1225/1225 [==============================] - 0s 81us/step - loss: 7.3345 - acc: 0.5437 - val_loss: 7.7703 - val_acc: 0.5179\n",
      "Epoch 4/100\n",
      "1225/1225 [==============================] - 0s 81us/step - loss: 7.3298 - acc: 0.5445 - val_loss: 7.7703 - val_acc: 0.5179\n",
      "Epoch 5/100\n",
      "1225/1225 [==============================] - 0s 85us/step - loss: 7.3288 - acc: 0.5453 - val_loss: 7.7703 - val_acc: 0.5179\n",
      "Epoch 6/100\n",
      "1225/1225 [==============================] - 0s 85us/step - loss: 7.3288 - acc: 0.5453 - val_loss: 7.7703 - val_acc: 0.5179\n",
      "Epoch 7/100\n",
      "1225/1225 [==============================] - 0s 87us/step - loss: 7.3288 - acc: 0.5453 - val_loss: 7.7703 - val_acc: 0.5179\n",
      "Epoch 8/100\n",
      "1225/1225 [==============================] - 0s 90us/step - loss: 7.3288 - acc: 0.5453 - val_loss: 7.7703 - val_acc: 0.5179\n",
      "Epoch 9/100\n",
      "1225/1225 [==============================] - 0s 86us/step - loss: 7.3288 - acc: 0.5453 - val_loss: 7.7703 - val_acc: 0.5179\n",
      "Epoch 10/100\n",
      "1225/1225 [==============================] - 0s 81us/step - loss: 7.3288 - acc: 0.5453 - val_loss: 7.7703 - val_acc: 0.5179\n",
      "Epoch 11/100\n",
      "1225/1225 [==============================] - 0s 84us/step - loss: 7.3288 - acc: 0.5453 - val_loss: 7.7703 - val_acc: 0.5179\n",
      "Epoch 12/100\n",
      "1225/1225 [==============================] - 0s 90us/step - loss: 7.3288 - acc: 0.5453 - val_loss: 7.7703 - val_acc: 0.5179\n",
      "Epoch 13/100\n",
      "1225/1225 [==============================] - 0s 88us/step - loss: 7.3288 - acc: 0.5453 - val_loss: 7.7703 - val_acc: 0.5179\n",
      "Epoch 14/100\n",
      "1225/1225 [==============================] - 0s 84us/step - loss: 7.3288 - acc: 0.5453 - val_loss: 7.7703 - val_acc: 0.5179\n",
      "Epoch 15/100\n",
      "1225/1225 [==============================] - 0s 84us/step - loss: 7.3288 - acc: 0.5453 - val_loss: 7.7703 - val_acc: 0.5179\n",
      "Epoch 16/100\n",
      "1225/1225 [==============================] - 0s 82us/step - loss: 7.3288 - acc: 0.5453 - val_loss: 7.7703 - val_acc: 0.5179\n",
      "Epoch 17/100\n",
      "1225/1225 [==============================] - 0s 90us/step - loss: 7.3288 - acc: 0.5453 - val_loss: 7.7703 - val_acc: 0.5179\n",
      "Epoch 18/100\n",
      "1225/1225 [==============================] - 0s 81us/step - loss: 7.3288 - acc: 0.5453 - val_loss: 7.7703 - val_acc: 0.5179\n",
      "Epoch 19/100\n",
      "1225/1225 [==============================] - 0s 83us/step - loss: 7.3288 - acc: 0.5453 - val_loss: 7.7703 - val_acc: 0.5179\n",
      "Epoch 20/100\n",
      "1225/1225 [==============================] - 0s 88us/step - loss: 7.3288 - acc: 0.5453 - val_loss: 7.7703 - val_acc: 0.5179\n",
      "Epoch 21/100\n",
      "1225/1225 [==============================] - 0s 87us/step - loss: 7.3288 - acc: 0.5453 - val_loss: 7.7703 - val_acc: 0.5179\n",
      "Epoch 22/100\n",
      "1225/1225 [==============================] - 0s 81us/step - loss: 7.3288 - acc: 0.5453 - val_loss: 7.7703 - val_acc: 0.5179\n",
      "Epoch 23/100\n",
      "1225/1225 [==============================] - 0s 78us/step - loss: 7.3288 - acc: 0.5453 - val_loss: 7.7703 - val_acc: 0.5179\n",
      "Epoch 24/100\n",
      "1225/1225 [==============================] - 0s 77us/step - loss: 7.3288 - acc: 0.5453 - val_loss: 7.7703 - val_acc: 0.5179\n",
      "Epoch 25/100\n",
      "1225/1225 [==============================] - 0s 85us/step - loss: 7.3288 - acc: 0.5453 - val_loss: 7.7703 - val_acc: 0.5179\n",
      "Epoch 26/100\n",
      "1225/1225 [==============================] - 0s 83us/step - loss: 7.3288 - acc: 0.5453 - val_loss: 7.7703 - val_acc: 0.5179\n",
      "Epoch 27/100\n",
      "1225/1225 [==============================] - 0s 83us/step - loss: 7.3288 - acc: 0.5453 - val_loss: 7.7703 - val_acc: 0.5179\n",
      "Epoch 28/100\n",
      "1225/1225 [==============================] - 0s 88us/step - loss: 7.3288 - acc: 0.5453 - val_loss: 7.7703 - val_acc: 0.5179\n",
      "Epoch 29/100\n",
      "1225/1225 [==============================] - 0s 87us/step - loss: 7.3288 - acc: 0.5453 - val_loss: 7.7703 - val_acc: 0.5179\n",
      "Epoch 30/100\n",
      "1225/1225 [==============================] - 0s 80us/step - loss: 7.3288 - acc: 0.5453 - val_loss: 7.7703 - val_acc: 0.5179\n",
      "Epoch 31/100\n",
      "1225/1225 [==============================] - 0s 84us/step - loss: 7.3288 - acc: 0.5453 - val_loss: 7.7703 - val_acc: 0.5179\n",
      "Epoch 32/100\n",
      "1225/1225 [==============================] - 0s 82us/step - loss: 7.3288 - acc: 0.5453 - val_loss: 7.7703 - val_acc: 0.5179\n",
      "Epoch 33/100\n",
      "1225/1225 [==============================] - 0s 80us/step - loss: 7.3288 - acc: 0.5453 - val_loss: 7.7703 - val_acc: 0.5179\n",
      "Epoch 34/100\n",
      "1225/1225 [==============================] - 0s 83us/step - loss: 7.3288 - acc: 0.5453 - val_loss: 7.7703 - val_acc: 0.5179\n",
      "Epoch 35/100\n",
      "1225/1225 [==============================] - 0s 87us/step - loss: 7.3288 - acc: 0.5453 - val_loss: 7.7703 - val_acc: 0.5179\n",
      "Epoch 36/100\n",
      "1225/1225 [==============================] - 0s 87us/step - loss: 7.3288 - acc: 0.5453 - val_loss: 7.7703 - val_acc: 0.5179\n",
      "Epoch 37/100\n",
      "1225/1225 [==============================] - 0s 83us/step - loss: 7.3288 - acc: 0.5453 - val_loss: 7.7703 - val_acc: 0.5179\n",
      "Epoch 38/100\n",
      "1225/1225 [==============================] - 0s 83us/step - loss: 7.3288 - acc: 0.5453 - val_loss: 7.7703 - val_acc: 0.5179\n",
      "Epoch 39/100\n",
      "1225/1225 [==============================] - 0s 90us/step - loss: 7.3288 - acc: 0.5453 - val_loss: 7.7703 - val_acc: 0.5179\n",
      "Epoch 40/100\n",
      "1225/1225 [==============================] - 0s 83us/step - loss: 7.3288 - acc: 0.5453 - val_loss: 7.7703 - val_acc: 0.5179\n",
      "Epoch 41/100\n",
      "1225/1225 [==============================] - 0s 80us/step - loss: 7.3288 - acc: 0.5453 - val_loss: 7.7703 - val_acc: 0.5179\n",
      "Epoch 42/100\n",
      "1225/1225 [==============================] - 0s 80us/step - loss: 7.3288 - acc: 0.5453 - val_loss: 7.7703 - val_acc: 0.5179\n",
      "Epoch 43/100\n",
      "1225/1225 [==============================] - 0s 85us/step - loss: 7.3288 - acc: 0.5453 - val_loss: 7.7703 - val_acc: 0.5179\n",
      "Epoch 44/100\n",
      "1225/1225 [==============================] - 0s 84us/step - loss: 7.3288 - acc: 0.5453 - val_loss: 7.7703 - val_acc: 0.5179\n",
      "Epoch 45/100\n",
      "1225/1225 [==============================] - 0s 78us/step - loss: 7.3288 - acc: 0.5453 - val_loss: 7.7703 - val_acc: 0.5179\n",
      "Epoch 46/100\n",
      "1225/1225 [==============================] - 0s 78us/step - loss: 7.3092 - acc: 0.5461 - val_loss: 7.7703 - val_acc: 0.5179\n",
      "Epoch 47/100\n",
      "1225/1225 [==============================] - 0s 83us/step - loss: 7.3711 - acc: 0.5388 - val_loss: 7.7703 - val_acc: 0.5179\n",
      "Epoch 48/100\n",
      "1225/1225 [==============================] - 0s 86us/step - loss: 7.3288 - acc: 0.5453 - val_loss: 7.7703 - val_acc: 0.5179\n",
      "Epoch 49/100\n",
      "1225/1225 [==============================] - 0s 82us/step - loss: 7.3288 - acc: 0.5453 - val_loss: 7.7703 - val_acc: 0.5179\n",
      "Epoch 50/100\n",
      "1225/1225 [==============================] - 0s 79us/step - loss: 7.3288 - acc: 0.5453 - val_loss: 7.7703 - val_acc: 0.5179\n",
      "Epoch 51/100\n",
      "1225/1225 [==============================] - 0s 83us/step - loss: 7.3288 - acc: 0.5453 - val_loss: 7.7703 - val_acc: 0.5179\n",
      "Epoch 52/100\n",
      "1225/1225 [==============================] - 0s 84us/step - loss: 7.3288 - acc: 0.5453 - val_loss: 7.7703 - val_acc: 0.5179\n",
      "Epoch 53/100\n",
      "1225/1225 [==============================] - 0s 82us/step - loss: 7.3288 - acc: 0.5453 - val_loss: 7.7703 - val_acc: 0.5179\n",
      "Epoch 54/100\n",
      "1225/1225 [==============================] - 0s 67us/step - loss: 7.3288 - acc: 0.5453 - val_loss: 7.7703 - val_acc: 0.5179\n",
      "Epoch 55/100\n",
      "1225/1225 [==============================] - 0s 81us/step - loss: 7.3288 - acc: 0.5453 - val_loss: 7.7703 - val_acc: 0.5179\n",
      "Epoch 56/100\n",
      "1225/1225 [==============================] - 0s 83us/step - loss: 7.3288 - acc: 0.5453 - val_loss: 7.7703 - val_acc: 0.5179\n",
      "Epoch 57/100\n",
      "1225/1225 [==============================] - 0s 80us/step - loss: 7.3288 - acc: 0.5453 - val_loss: 7.7703 - val_acc: 0.5179\n",
      "Epoch 58/100\n",
      "1225/1225 [==============================] - 0s 85us/step - loss: 7.3288 - acc: 0.5453 - val_loss: 7.7703 - val_acc: 0.5179\n",
      "Epoch 59/100\n",
      "1225/1225 [==============================] - 0s 82us/step - loss: 7.3288 - acc: 0.5453 - val_loss: 7.7703 - val_acc: 0.5179\n",
      "Epoch 60/100\n",
      "1225/1225 [==============================] - 0s 88us/step - loss: 7.3288 - acc: 0.5453 - val_loss: 7.7703 - val_acc: 0.5179\n",
      "Epoch 61/100\n",
      "1225/1225 [==============================] - 0s 89us/step - loss: 7.3288 - acc: 0.5453 - val_loss: 7.7703 - val_acc: 0.5179\n",
      "Epoch 62/100\n",
      "1225/1225 [==============================] - 0s 86us/step - loss: 7.3288 - acc: 0.5453 - val_loss: 7.7703 - val_acc: 0.5179\n",
      "Epoch 63/100\n",
      "1225/1225 [==============================] - 0s 82us/step - loss: 7.3288 - acc: 0.5453 - val_loss: 7.7703 - val_acc: 0.5179\n",
      "Epoch 64/100\n",
      "1225/1225 [==============================] - 0s 84us/step - loss: 7.3288 - acc: 0.5453 - val_loss: 7.7703 - val_acc: 0.5179\n",
      "Epoch 65/100\n",
      "1225/1225 [==============================] - 0s 79us/step - loss: 7.3288 - acc: 0.5453 - val_loss: 7.7703 - val_acc: 0.5179\n",
      "Epoch 66/100\n",
      "1225/1225 [==============================] - 0s 85us/step - loss: 7.3288 - acc: 0.5453 - val_loss: 7.7703 - val_acc: 0.5179\n",
      "Epoch 67/100\n",
      "1225/1225 [==============================] - 0s 81us/step - loss: 7.3288 - acc: 0.5453 - val_loss: 7.7703 - val_acc: 0.5179\n",
      "Epoch 68/100\n",
      "1225/1225 [==============================] - 0s 88us/step - loss: 7.3288 - acc: 0.5453 - val_loss: 7.7703 - val_acc: 0.5179\n",
      "Epoch 69/100\n",
      "1225/1225 [==============================] - 0s 80us/step - loss: 7.3288 - acc: 0.5453 - val_loss: 7.7703 - val_acc: 0.5179\n",
      "Epoch 70/100\n",
      "1225/1225 [==============================] - 0s 85us/step - loss: 7.3288 - acc: 0.5453 - val_loss: 7.7703 - val_acc: 0.5179\n",
      "Epoch 71/100\n",
      "1225/1225 [==============================] - 0s 81us/step - loss: 7.3288 - acc: 0.5453 - val_loss: 7.7703 - val_acc: 0.5179\n",
      "Epoch 72/100\n",
      "1225/1225 [==============================] - 0s 87us/step - loss: 7.3288 - acc: 0.5453 - val_loss: 7.7703 - val_acc: 0.5179\n",
      "Epoch 73/100\n",
      "1225/1225 [==============================] - 0s 75us/step - loss: 7.3288 - acc: 0.5453 - val_loss: 7.7703 - val_acc: 0.5179\n",
      "Epoch 74/100\n",
      "1225/1225 [==============================] - 0s 84us/step - loss: 7.3288 - acc: 0.5453 - val_loss: 7.7703 - val_acc: 0.5179\n",
      "Epoch 75/100\n",
      "1225/1225 [==============================] - 0s 79us/step - loss: 7.3288 - acc: 0.5453 - val_loss: 7.7703 - val_acc: 0.5179\n",
      "Epoch 76/100\n",
      "1225/1225 [==============================] - 0s 77us/step - loss: 7.3288 - acc: 0.5453 - val_loss: 7.7703 - val_acc: 0.5179\n",
      "Epoch 77/100\n",
      "1225/1225 [==============================] - 0s 81us/step - loss: 7.3288 - acc: 0.5453 - val_loss: 7.7703 - val_acc: 0.5179\n",
      "Epoch 78/100\n",
      "1225/1225 [==============================] - 0s 79us/step - loss: 7.3288 - acc: 0.5453 - val_loss: 7.7703 - val_acc: 0.5179\n",
      "Epoch 79/100\n",
      "1225/1225 [==============================] - 0s 74us/step - loss: 7.3288 - acc: 0.5453 - val_loss: 7.7703 - val_acc: 0.5179\n",
      "Epoch 80/100\n",
      "1225/1225 [==============================] - 0s 79us/step - loss: 7.3288 - acc: 0.5453 - val_loss: 7.7703 - val_acc: 0.5179\n",
      "Epoch 81/100\n",
      "1225/1225 [==============================] - 0s 80us/step - loss: 7.3288 - acc: 0.5453 - val_loss: 7.7703 - val_acc: 0.5179\n",
      "Epoch 82/100\n",
      "1225/1225 [==============================] - 0s 80us/step - loss: 7.3288 - acc: 0.5453 - val_loss: 7.7703 - val_acc: 0.5179\n",
      "Epoch 83/100\n",
      "1225/1225 [==============================] - 0s 77us/step - loss: 7.3288 - acc: 0.5453 - val_loss: 7.7703 - val_acc: 0.5179\n",
      "Epoch 84/100\n",
      "1225/1225 [==============================] - 0s 77us/step - loss: 7.3288 - acc: 0.5453 - val_loss: 7.7703 - val_acc: 0.5179\n",
      "Epoch 85/100\n",
      "1225/1225 [==============================] - 0s 81us/step - loss: 7.3288 - acc: 0.5453 - val_loss: 7.7703 - val_acc: 0.5179\n",
      "Epoch 86/100\n",
      "1225/1225 [==============================] - 0s 81us/step - loss: 7.3288 - acc: 0.5453 - val_loss: 7.7703 - val_acc: 0.5179\n",
      "Epoch 87/100\n",
      "1225/1225 [==============================] - 0s 78us/step - loss: 7.3288 - acc: 0.5453 - val_loss: 7.7703 - val_acc: 0.5179\n",
      "Epoch 88/100\n",
      "1225/1225 [==============================] - 0s 82us/step - loss: 7.3288 - acc: 0.5453 - val_loss: 7.7703 - val_acc: 0.5179\n",
      "Epoch 89/100\n",
      "1225/1225 [==============================] - 0s 77us/step - loss: 7.3288 - acc: 0.5453 - val_loss: 7.7703 - val_acc: 0.5179\n",
      "Epoch 90/100\n",
      "1225/1225 [==============================] - 0s 77us/step - loss: 7.3288 - acc: 0.5453 - val_loss: 7.7703 - val_acc: 0.5179\n",
      "Epoch 91/100\n",
      "1225/1225 [==============================] - 0s 80us/step - loss: 7.3288 - acc: 0.5453 - val_loss: 7.7703 - val_acc: 0.5179\n",
      "Epoch 92/100\n",
      "1225/1225 [==============================] - 0s 77us/step - loss: 7.3288 - acc: 0.5453 - val_loss: 7.7703 - val_acc: 0.5179\n",
      "Epoch 93/100\n",
      "1225/1225 [==============================] - 0s 79us/step - loss: 7.3288 - acc: 0.5453 - val_loss: 7.7703 - val_acc: 0.5179\n",
      "Epoch 94/100\n",
      "1225/1225 [==============================] - 0s 82us/step - loss: 7.3288 - acc: 0.5453 - val_loss: 7.7703 - val_acc: 0.5179\n",
      "Epoch 95/100\n",
      "1225/1225 [==============================] - 0s 78us/step - loss: 7.3288 - acc: 0.5453 - val_loss: 7.7703 - val_acc: 0.5179\n",
      "Epoch 96/100\n",
      "1225/1225 [==============================] - 0s 76us/step - loss: 7.3288 - acc: 0.5453 - val_loss: 7.7703 - val_acc: 0.5179\n",
      "Epoch 97/100\n",
      "1225/1225 [==============================] - 0s 79us/step - loss: 7.3288 - acc: 0.5453 - val_loss: 7.7703 - val_acc: 0.5179\n",
      "Epoch 98/100\n",
      "1225/1225 [==============================] - 0s 80us/step - loss: 7.3288 - acc: 0.5453 - val_loss: 7.7703 - val_acc: 0.5179\n",
      "Epoch 99/100\n",
      "1225/1225 [==============================] - 0s 81us/step - loss: 7.3288 - acc: 0.5453 - val_loss: 7.7703 - val_acc: 0.5179\n",
      "Epoch 100/100\n",
      "1225/1225 [==============================] - 0s 81us/step - loss: 7.3288 - acc: 0.5453 - val_loss: 7.7703 - val_acc: 0.5179\n"
     ]
    },
    {
     "data": {
      "text/plain": [
       "<keras.callbacks.History at 0x7faea41e9f60>"
      ]
     },
     "execution_count": 111,
     "metadata": {},
     "output_type": "execute_result"
    }
   ],
   "source": [
    "#model.fit(X, y, batch_size=30, epochs=40, validation_split=0.1)\n",
    "X_train, X_test, y_train, y_test = get_train_test(X,y)\n",
    "print(model.summary())\n",
    "print(\"training for 100 epochs with batch size 32\")\n",
    "model.fit(X_train,y_train,batch_size= 32, epochs = 100, validation_data=(X_test,y_test))\n"
   ]
  },
  {
   "cell_type": "code",
   "execution_count": 112,
   "metadata": {},
   "outputs": [
    {
     "name": "stdout",
     "output_type": "stream",
     "text": [
      "307/307 [==============================] - 0s 31us/step\n"
     ]
    },
    {
     "data": {
      "text/plain": [
       "(7.770287131641897, 51.79153106111657)"
      ]
     },
     "execution_count": 112,
     "metadata": {},
     "output_type": "execute_result"
    }
   ],
   "source": [
    "def compute(X_test,y_test,model):\n",
    "    score = model.evaluate(X_test,y_test)\n",
    "    return score[0],score[1]*100\n",
    "compute(X_test, y_test,model)"
   ]
  },
  {
   "cell_type": "code",
   "execution_count": null,
   "metadata": {},
   "outputs": [],
   "source": []
  },
  {
   "cell_type": "code",
   "execution_count": null,
   "metadata": {},
   "outputs": [],
   "source": []
  },
  {
   "cell_type": "code",
   "execution_count": null,
   "metadata": {},
   "outputs": [],
   "source": []
  },
  {
   "cell_type": "code",
   "execution_count": null,
   "metadata": {},
   "outputs": [],
   "source": []
  }
 ],
 "metadata": {
  "kernelspec": {
   "display_name": "Python 3",
   "language": "python",
   "name": "python3"
  },
  "language_info": {
   "codemirror_mode": {
    "name": "ipython",
    "version": 3
   },
   "file_extension": ".py",
   "mimetype": "text/x-python",
   "name": "python",
   "nbconvert_exporter": "python",
   "pygments_lexer": "ipython3",
   "version": "3.6.5"
  }
 },
 "nbformat": 4,
 "nbformat_minor": 2
}
