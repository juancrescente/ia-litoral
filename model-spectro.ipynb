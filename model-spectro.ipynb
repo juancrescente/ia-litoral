{
 "cells": [
  {
   "cell_type": "code",
   "execution_count": 1,
   "metadata": {},
   "outputs": [
    {
     "name": "stderr",
     "output_type": "stream",
     "text": [
      "Using TensorFlow backend.\n"
     ]
    }
   ],
   "source": [
    "# Load various imports \n",
    "import pandas as pd\n",
    "import os\n",
    "import librosa\n",
    "import librosa.display\n",
    "from sklearn import preprocessing\n",
    "import numpy as np\n",
    "import IPython\n",
    "from keras.preprocessing.image import ImageDataGenerator, array_to_img, img_to_array, load_img\n",
    "import sys\n",
    "import PIL\n",
    "import sys\n",
    "from PIL import Image\n",
    "sys.modules['Image'] = Image \n"
   ]
  },
  {
   "cell_type": "code",
   "execution_count": 2,
   "metadata": {},
   "outputs": [],
   "source": [
    "import keras\n",
    "from IPython.display import clear_output\n",
    "import numpy as np\n",
    "import matplotlib.pyplot as plt\n",
    "\n",
    "class LivePlot(keras.callbacks.Callback):\n",
    "    \n",
    "    # This function is called when the training begins\n",
    "    def on_train_begin(self, logs={}):\n",
    "        # Initialize the lists for holding the logs, losses and accuracies\n",
    "        self.losses = []\n",
    "        self.acc = []\n",
    "        self.val_losses = []\n",
    "        self.val_acc = []\n",
    "        self.logs = []\n",
    "    \n",
    "    # This function is called at the end of each epoch\n",
    "    def on_epoch_end(self, epoch, logs={}):\n",
    "        \n",
    "        # Append the logs, losses and accuracies to the lists\n",
    "        self.logs.append(logs)\n",
    "        self.losses.append(logs.get('loss'))\n",
    "        self.acc.append(logs.get('acc'))\n",
    "        self.val_losses.append(logs.get('val_loss'))\n",
    "        self.val_acc.append(logs.get('val_acc'))\n",
    "        \n",
    "        # Before plotting ensure at least 2 epochs have passed\n",
    "        if len(self.losses) > 1:\n",
    "            \n",
    "            # Clear the previous plot\n",
    "            clear_output(wait=True)\n",
    "            N = np.arange(0, len(self.losses))\n",
    "            \n",
    "            # You can chose the style of your preference\n",
    "            # print(plt.style.available) to see the available options\n",
    "            plt.style.use(\"seaborn\")\n",
    "            \n",
    "            # Plot train loss, train acc, val loss and val acc against epochs passed\n",
    "            plt.figure()\n",
    "            plt.plot(N, self.losses, label = \"train_loss\")\n",
    "            plt.plot(N, self.acc, label = \"train_acc\")\n",
    "            plt.plot(N, self.val_losses, label = \"val_loss\")\n",
    "            plt.plot(N, self.val_acc, label = \"val_acc\")\n",
    "            plt.title(\"Training Loss and Accuracy [Epoch {}]\".format(epoch))\n",
    "            plt.xlabel(\"Epoch #\")\n",
    "            plt.ylabel(\"Loss/Accuracy\")\n",
    "            plt.legend()\n",
    "            plt.show()\n"
   ]
  },
  {
   "cell_type": "code",
   "execution_count": 14,
   "metadata": {},
   "outputs": [
    {
     "name": "stdout",
     "output_type": "stream",
     "text": [
      "1532\n",
      "Test size:\n",
      "38\n"
     ]
    },
    {
     "data": {
      "text/html": [
       "<div>\n",
       "<style scoped>\n",
       "    .dataframe tbody tr th:only-of-type {\n",
       "        vertical-align: middle;\n",
       "    }\n",
       "\n",
       "    .dataframe tbody tr th {\n",
       "        vertical-align: top;\n",
       "    }\n",
       "\n",
       "    .dataframe thead th {\n",
       "        text-align: right;\n",
       "    }\n",
       "</style>\n",
       "<table border=\"1\" class=\"dataframe\">\n",
       "  <thead>\n",
       "    <tr style=\"text-align: right;\">\n",
       "      <th></th>\n",
       "      <th>filename</th>\n",
       "      <th>pasture</th>\n",
       "      <th>height</th>\n",
       "      <th>label</th>\n",
       "    </tr>\n",
       "  </thead>\n",
       "  <tbody>\n",
       "    <tr>\n",
       "      <th>0</th>\n",
       "      <td>data/data/0004.wav.jpg</td>\n",
       "      <td>alfalfa</td>\n",
       "      <td>tall</td>\n",
       "      <td>2</td>\n",
       "    </tr>\n",
       "    <tr>\n",
       "      <th>1</th>\n",
       "      <td>data/data/0009.wav.jpg</td>\n",
       "      <td>alfalfa</td>\n",
       "      <td>tall</td>\n",
       "      <td>2</td>\n",
       "    </tr>\n",
       "  </tbody>\n",
       "</table>\n",
       "</div>"
      ],
      "text/plain": [
       "                 filename  pasture height  label\n",
       "0  data/data/0004.wav.jpg  alfalfa   tall      2\n",
       "1  data/data/0009.wav.jpg  alfalfa   tall      2"
      ]
     },
     "execution_count": 14,
     "metadata": {},
     "output_type": "execute_result"
    }
   ],
   "source": [
    "from math import floor\n",
    "path_train = 'data/train_labels.csv'\n",
    "path_test = 'data/test_files.csv'\n",
    "df = pd.read_csv(path_train)\n",
    "total_count = len(df.index)\n",
    "num_test = floor(total_count * 0.025)\n",
    "df['filename'] = df['filename'].map(lambda x: 'data/data/%04d.wav.jpg' % x)\n",
    "df_test_my = df.sample(num_test)\n",
    "df = df[~df.index.isin(df_test_my.index)]\n",
    "print(total_count)\n",
    "print(\"Test size:\")\n",
    "print(num_test)\n",
    "df.head(2)"
   ]
  },
  {
   "cell_type": "code",
   "execution_count": 15,
   "metadata": {},
   "outputs": [],
   "source": [
    "#df = df.head(500)"
   ]
  },
  {
   "cell_type": "code",
   "execution_count": 16,
   "metadata": {},
   "outputs": [
    {
     "data": {
      "text/html": [
       "\n",
       "                <audio controls=\"controls\" >\n",
       "                    <source src=\"data:audio/x-wav;base64,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\" type=\"audio/x-wav\" />\n",
       "                    Your browser does not support the audio element.\n",
       "                </audio>\n",
       "              "
      ],
      "text/plain": [
       "<IPython.lib.display.Audio object>"
      ]
     },
     "execution_count": 16,
     "metadata": {},
     "output_type": "execute_result"
    }
   ],
   "source": [
    "IPython.display.Audio(df.loc[0]['filename'][:-4])"
   ]
  },
  {
   "cell_type": "code",
   "execution_count": 17,
   "metadata": {},
   "outputs": [],
   "source": [
    "IMG_SIZE_1 = 100\n",
    "IMG_SIZE_2 = 50\n",
    "CHANNELS=1\n",
    "def extract_features(file_name):\n",
    "    img = Image.open(file_name)\n",
    "    img = img.convert('L')\n",
    "    img = img.resize((IMG_SIZE_1, IMG_SIZE_2), Image.ANTIALIAS)\n",
    "    img = np.array(img)\n",
    "    img = img / 125\n",
    "    return img\n"
   ]
  },
  {
   "cell_type": "code",
   "execution_count": 18,
   "metadata": {},
   "outputs": [
    {
     "name": "stdout",
     "output_type": "stream",
     "text": [
      "Finished feature extraction from  1494  files\n"
     ]
    },
    {
     "data": {
      "text/html": [
       "<div>\n",
       "<style scoped>\n",
       "    .dataframe tbody tr th:only-of-type {\n",
       "        vertical-align: middle;\n",
       "    }\n",
       "\n",
       "    .dataframe tbody tr th {\n",
       "        vertical-align: top;\n",
       "    }\n",
       "\n",
       "    .dataframe thead th {\n",
       "        text-align: right;\n",
       "    }\n",
       "</style>\n",
       "<table border=\"1\" class=\"dataframe\">\n",
       "  <thead>\n",
       "    <tr style=\"text-align: right;\">\n",
       "      <th></th>\n",
       "      <th>feature</th>\n",
       "      <th>class_label</th>\n",
       "    </tr>\n",
       "  </thead>\n",
       "  <tbody>\n",
       "    <tr>\n",
       "      <th>0</th>\n",
       "      <td>[[0.088, 0.088, 0.096, 0.096, 0.112, 0.12, 0.1...</td>\n",
       "      <td>2</td>\n",
       "    </tr>\n",
       "    <tr>\n",
       "      <th>1</th>\n",
       "      <td>[[0.144, 0.152, 0.144, 0.12, 0.096, 0.128, 0.1...</td>\n",
       "      <td>2</td>\n",
       "    </tr>\n",
       "  </tbody>\n",
       "</table>\n",
       "</div>"
      ],
      "text/plain": [
       "                                             feature  class_label\n",
       "0  [[0.088, 0.088, 0.096, 0.096, 0.112, 0.12, 0.1...            2\n",
       "1  [[0.144, 0.152, 0.144, 0.12, 0.096, 0.128, 0.1...            2"
      ]
     },
     "execution_count": 18,
     "metadata": {},
     "output_type": "execute_result"
    }
   ],
   "source": [
    "features = []\n",
    "for k,row in df.iterrows():\n",
    "#for k,row in df.head(4).iterrows():\n",
    "    class_label = row[\"label\"]\n",
    "    data = extract_features(row['filename'])\n",
    "    features.append([data, class_label])\n",
    "df_features = pd.DataFrame(features, columns=['feature','class_label'])\n",
    "print('Finished feature extraction from ', len(df_features), ' files')\n",
    "df_features.head(2)"
   ]
  },
  {
   "cell_type": "code",
   "execution_count": 19,
   "metadata": {},
   "outputs": [
    {
     "data": {
      "text/plain": [
       "(50, 100)"
      ]
     },
     "execution_count": 19,
     "metadata": {},
     "output_type": "execute_result"
    }
   ],
   "source": [
    "df_features.loc[0].feature.shape"
   ]
  },
  {
   "cell_type": "code",
   "execution_count": 20,
   "metadata": {},
   "outputs": [
    {
     "data": {
      "text/plain": [
       "<matplotlib.image.AxesImage at 0x7ff3cbe18a58>"
      ]
     },
     "execution_count": 20,
     "metadata": {},
     "output_type": "execute_result"
    },
    {
     "data": {
      "image/png": "[encoded data removed]",
      "text/plain": [
       "<Figure size 576x396 with 1 Axes>"
      ]
     },
     "metadata": {},
     "output_type": "display_data"
    }
   ],
   "source": [
    "plt.imshow(df_features.loc[2].feature, cmap = 'gist_gray')\n"
   ]
  },
  {
   "cell_type": "code",
   "execution_count": 21,
   "metadata": {},
   "outputs": [],
   "source": [
    "from sklearn.preprocessing import LabelEncoder\n",
    "from keras.utils import to_categorical\n",
    "\n",
    "# Convert features and corresponding classification labels into numpy arrays\n",
    "X = np.array(df_features.feature.tolist())\n",
    "y = np.array(df_features.class_label.tolist())\n",
    "\n",
    "# Encode the classification labels\n",
    "le = LabelEncoder()\n",
    "yy = to_categorical(le.fit_transform(y)) \n",
    "\n",
    "# split the dataset \n",
    "from sklearn.model_selection import train_test_split \n",
    "\n",
    "x_train, x_test, y_train, y_test = train_test_split(X, yy, test_size=0.2, random_state = 42)\n",
    "x_train = x_train.reshape(x_train.shape[0], IMG_SIZE_1, IMG_SIZE_2, 1)\n",
    "x_test = x_test.reshape(x_test.shape[0], IMG_SIZE_1, IMG_SIZE_2, 1)\n",
    "#x_train = np.expand_dims(x_train, axis=2)\n",
    "#x_test = np.expand_dims(x_test, axis=2)\n",
    "\n"
   ]
  },
  {
   "cell_type": "code",
   "execution_count": null,
   "metadata": {},
   "outputs": [],
   "source": []
  },
  {
   "cell_type": "code",
   "execution_count": 23,
   "metadata": {},
   "outputs": [],
   "source": [
    "\n",
    "def build_model():\n",
    "    global x_train\n",
    "    global x_test\n",
    "    global y_train\n",
    "    global y_test\n",
    "    import numpy as np\n",
    "    from keras.models import Sequential\n",
    "    from keras.layers import Dense, Dropout, Activation, Flatten, LeakyReLU\n",
    "    from keras.layers import Convolution2D, Conv2D, MaxPooling2D, GlobalAveragePooling2D\n",
    "    from keras.optimizers import Adam\n",
    "    from keras.utils import np_utils\n",
    "    from sklearn import metrics \n",
    "    import keras\n",
    "    \n",
    "    INIT_LR = 1e-3\n",
    "    num_labels = yy.shape[1]\n",
    "    input_shape=(IMG_SIZE_1,IMG_SIZE_2, 1)\n",
    "    \n",
    "    model = Sequential()\n",
    "    model.add(Conv2D(64, kernel_size=(3,3),input_shape=input_shape, activation='relu'))\n",
    "    model.add(MaxPooling2D(pool_size=(2,2)))\n",
    "    model.add(Dropout(0.25))\n",
    "    \n",
    "    model.add(Conv2D(64, kernel_size=(3,3),activation='relu'))\n",
    "    model.add(MaxPooling2D(pool_size=(2,2)))\n",
    "    model.add(Dropout(0.25))\n",
    "    \n",
    "    model.add(Flatten())\n",
    "                    \n",
    "    #model.add(Dense(50, activation='softmax'))\n",
    "    model.add(Dense(num_labels, activation='softmax'))\n",
    "\n",
    "    model.compile(loss=keras.losses.categorical_crossentropy, optimizer='adam',metrics=['accuracy'])\n",
    "    return model\n",
    "\n",
    "    # Construct model \n",
    "    model = Sequential()\n",
    "    model.add(Conv2D(filters=8, kernel_size=3, input_shape=(IMG_SIZE_1,IMG_SIZE_2, 1), activation='relu'))\n",
    "    model.add(MaxPooling2D(pool_size=2))\n",
    "    model.add(Dropout(0.25))\n",
    "\n",
    "    model.add(Conv2D(filters=16, kernel_size=3, input_shape=(IMG_SIZE_1,IMG_SIZE_2, 1), activation='relu'))\n",
    "    model.add(MaxPooling2D(pool_size=2))\n",
    "    model.add(Dropout(0.25))\n",
    "    \n",
    "    \n",
    "    model.add(Flatten())  # this converts our 3D feature maps to 1D feature vectors\n",
    "    model.add(Dense(200))\n",
    "    model.add(Dense(num_labels, activation='softmax'))\n",
    "    model.compile(loss='categorical_crossentropy', metrics=['accuracy'], optimizer='adam')\n",
    "\n",
    "    return model"
   ]
  },
  {
   "cell_type": "raw",
   "metadata": {},
   "source": [
    "    model = Sequential()\n",
    "    model.add(Conv2D(64, kernel_size=(3,3),input_shape=input_shape), activation='relu')\n",
    "    model.add(MaxPooling2D(pool_size=(2,2)))\n",
    "    model.add(Dropout(0.25))\n",
    "    \n",
    "    model.add(Conv2D(64, kernel_size=(3,3),input_shape=input_shape),activation='relu')\n",
    "    model.add(MaxPooling2D(pool_size=(2,2)))\n",
    "    model.add(Dropout(0.25))\n",
    "    \n",
    "    model.add(Flatten())\n",
    "                    \n",
    "        \n",
    "        Layer (type)                 Output Shape              Param #   \n",
    "=================================================================\n",
    "conv2d_121 (Conv2D)          (None, 198, 98, 64)       640       \n",
    "_________________________________________________________________\n",
    "max_pooling2d_113 (MaxPoolin (None, 99, 49, 64)        0         \n",
    "_________________________________________________________________\n",
    "activation_42 (Activation)   (None, 99, 49, 64)        0         \n",
    "_________________________________________________________________\n",
    "dropout_76 (Dropout)         (None, 99, 49, 64)        0         \n",
    "_________________________________________________________________\n",
    "conv2d_122 (Conv2D)          (None, 97, 47, 64)        36928     \n",
    "_________________________________________________________________\n",
    "max_pooling2d_114 (MaxPoolin (None, 48, 23, 64)        0         \n",
    "_________________________________________________________________\n",
    "activation_43 (Activation)   (None, 48, 23, 64)        0         \n",
    "_________________________________________________________________\n",
    "dropout_77 (Dropout)         (None, 48, 23, 64)        0         \n",
    "_________________________________________________________________\n",
    "flatten_26 (Flatten)         (None, 70656)             0         \n",
    "_________________________________________________________________\n",
    "dense_74 (Dense)             (None, 3)                 211971    \n",
    "=================================================================\n",
    "Total params: 249,539\n",
    "Trainable params: 249,539\n",
    "Non-trainable params: 0\n",
    "_________________________________________________________________\n",
    "299/299 [==============================] - 5s 16ms/step\n",
    "Pre-training accuracy: 14.7157%\n"
   ]
  },
  {
   "cell_type": "code",
   "execution_count": 24,
   "metadata": {},
   "outputs": [
    {
     "name": "stdout",
     "output_type": "stream",
     "text": [
      "_________________________________________________________________\n",
      "Layer (type)                 Output Shape              Param #   \n",
      "=================================================================\n",
      "conv2d_3 (Conv2D)            (None, 98, 48, 64)        640       \n",
      "_________________________________________________________________\n",
      "max_pooling2d_3 (MaxPooling2 (None, 49, 24, 64)        0         \n",
      "_________________________________________________________________\n",
      "dropout_3 (Dropout)          (None, 49, 24, 64)        0         \n",
      "_________________________________________________________________\n",
      "conv2d_4 (Conv2D)            (None, 47, 22, 64)        36928     \n",
      "_________________________________________________________________\n",
      "max_pooling2d_4 (MaxPooling2 (None, 23, 11, 64)        0         \n",
      "_________________________________________________________________\n",
      "dropout_4 (Dropout)          (None, 23, 11, 64)        0         \n",
      "_________________________________________________________________\n",
      "flatten_2 (Flatten)          (None, 16192)             0         \n",
      "_________________________________________________________________\n",
      "dense_2 (Dense)              (None, 3)                 48579     \n",
      "=================================================================\n",
      "Total params: 86,147\n",
      "Trainable params: 86,147\n",
      "Non-trainable params: 0\n",
      "_________________________________________________________________\n",
      "299/299 [==============================] - 1s 3ms/step\n",
      "Pre-training accuracy: 36.4548%\n"
     ]
    }
   ],
   "source": [
    "model = build_model()\n",
    "# Display model architecture summary \n",
    "model.summary()\n",
    "# Calculate pre-training accuracy \n",
    "score = model.evaluate(x_test, y_test, verbose=1)\n",
    "accuracy = 100*score[1]\n",
    "print(\"Pre-training accuracy: %.4f%%\" % accuracy) \n"
   ]
  },
  {
   "cell_type": "code",
   "execution_count": null,
   "metadata": {},
   "outputs": [],
   "source": []
  },
  {
   "cell_type": "code",
   "execution_count": null,
   "metadata": {},
   "outputs": [],
   "source": []
  },
  {
   "cell_type": "code",
   "execution_count": 25,
   "metadata": {},
   "outputs": [
    {
     "data": {
      "image/png": "[encoded data removed]",
      "text/plain": [
       "<Figure size 576x396 with 1 Axes>"
      ]
     },
     "metadata": {},
     "output_type": "display_data"
    },
    {
     "name": "stdout",
     "output_type": "stream",
     "text": [
      "Training completed in time:  0:05:02.514906\n"
     ]
    }
   ],
   "source": [
    "#https://medium.com/@mikesmales/sound-classification-using-deep-learning-8bc2aa1990b7\n",
    "from keras.callbacks import EarlyStopping, ModelCheckpoint\n",
    "from datetime import datetime \n",
    "\n",
    "num_epochs = 80\n",
    "num_batch_size = 80\n",
    "\n",
    "es = EarlyStopping(monitor='val_loss', patience=10)\n",
    "ch = ModelCheckpoint(filepath='data/weights.best.basic_cnn.hdf5', \n",
    "                               verbose=1, save_best_only=True)\n",
    "\n",
    "\n",
    "callbacks = [es, ch, LivePlot()]\n",
    "start = datetime.now()\n",
    "\n",
    "model.fit(x_train, y_train, batch_size=num_batch_size, \n",
    "          epochs=num_epochs, \n",
    "          validation_data=(x_test, y_test), \n",
    "          verbose=1,\n",
    "          callbacks=callbacks)\n",
    "\n",
    "\n",
    "duration = datetime.now() - start\n",
    "print(\"Training completed in time: \", duration)\n"
   ]
  },
  {
   "cell_type": "code",
   "execution_count": 27,
   "metadata": {},
   "outputs": [
    {
     "name": "stdout",
     "output_type": "stream",
     "text": [
      "Training Accuracy:  0.8602510459752263\n",
      "Val Accuracy:  0.8294314381270903\n",
      "Finished feature extraction from  38  files\n",
      "Test Accuracy:  0.7894736873476129\n"
     ]
    }
   ],
   "source": [
    "path_weights = 'data/weights.best.basic_cnn.hdf5'\n",
    "model.load_weights(path_weights)\n",
    "\n",
    "# Evaluating the model on the training and testing set\n",
    "score_t = model.evaluate(x_train, y_train, verbose=0)\n",
    "print(\"Training Accuracy: \", score_t[1])\n",
    "\n",
    "score_v = model.evaluate(x_test, y_test, verbose=0)\n",
    "print(\"Val Accuracy: \", score_v[1])\n",
    "\n",
    "\n",
    "features = []\n",
    "for k,row in df_test_my.iterrows():\n",
    "    data = extract_features(row['filename'])\n",
    "    features.append([data])\n",
    "df_features_test = pd.DataFrame(features, columns=['feature'])\n",
    "print('Finished feature extraction from ', len(df_features_test), ' files')\n",
    "X_test_my = np.array(df_features_test.feature.tolist())\n",
    "x_test_my = X_test_my.reshape(X_test_my.shape[0], IMG_SIZE_1, IMG_SIZE_2, 1)\n",
    "\n",
    "\n",
    "le = LabelEncoder()\n",
    "y_test_my = df_test_my.label.tolist()\n",
    "Y_test_my = to_categorical(le.fit_transform(y_test_my)) \n",
    "\n",
    "#X_test_my = np.expand_dims(X_test_my, axis=2)\n",
    "\n",
    "# Evaluating the model on the training and testing set\n",
    "score_test = model.evaluate(x_test_my, Y_test_my, verbose=0)\n",
    "print(\"Test Accuracy: \", score_test[1])\n"
   ]
  },
  {
   "cell_type": "code",
   "execution_count": null,
   "metadata": {},
   "outputs": [],
   "source": []
  },
  {
   "cell_type": "code",
   "execution_count": null,
   "metadata": {},
   "outputs": [],
   "source": []
  },
  {
   "cell_type": "code",
   "execution_count": null,
   "metadata": {},
   "outputs": [],
   "source": []
  },
  {
   "cell_type": "code",
   "execution_count": null,
   "metadata": {},
   "outputs": [],
   "source": []
  },
  {
   "cell_type": "code",
   "execution_count": null,
   "metadata": {},
   "outputs": [],
   "source": []
  },
  {
   "cell_type": "code",
   "execution_count": null,
   "metadata": {},
   "outputs": [],
   "source": []
  },
  {
   "cell_type": "code",
   "execution_count": null,
   "metadata": {},
   "outputs": [],
   "source": []
  },
  {
   "cell_type": "code",
   "execution_count": null,
   "metadata": {},
   "outputs": [],
   "source": []
  },
  {
   "cell_type": "code",
   "execution_count": 64,
   "metadata": {},
   "outputs": [
    {
     "name": "stdout",
     "output_type": "stream",
     "text": [
      "1551\n"
     ]
    },
    {
     "data": {
      "text/html": [
       "<div>\n",
       "<style scoped>\n",
       "    .dataframe tbody tr th:only-of-type {\n",
       "        vertical-align: middle;\n",
       "    }\n",
       "\n",
       "    .dataframe tbody tr th {\n",
       "        vertical-align: top;\n",
       "    }\n",
       "\n",
       "    .dataframe thead th {\n",
       "        text-align: right;\n",
       "    }\n",
       "</style>\n",
       "<table border=\"1\" class=\"dataframe\">\n",
       "  <thead>\n",
       "    <tr style=\"text-align: right;\">\n",
       "      <th></th>\n",
       "      <th>filename</th>\n",
       "    </tr>\n",
       "  </thead>\n",
       "  <tbody>\n",
       "    <tr>\n",
       "      <th>0</th>\n",
       "      <td>data/data/0001.wav</td>\n",
       "    </tr>\n",
       "    <tr>\n",
       "      <th>1</th>\n",
       "      <td>data/data/0002.wav</td>\n",
       "    </tr>\n",
       "  </tbody>\n",
       "</table>\n",
       "</div>"
      ],
      "text/plain": [
       "             filename\n",
       "0  data/data/0001.wav\n",
       "1  data/data/0002.wav"
      ]
     },
     "execution_count": 64,
     "metadata": {},
     "output_type": "execute_result"
    }
   ],
   "source": [
    "df_test_ = pd.read_csv(path_test)\n",
    "df_test = df_test_.copy()\n",
    "df_test['filename'] = df_test['filename'].map(lambda x: 'data/data/%04d.wav' % x)\n",
    "print(len(df_test.index))\n",
    "df_test.head(2)"
   ]
  },
  {
   "cell_type": "code",
   "execution_count": 65,
   "metadata": {},
   "outputs": [
    {
     "name": "stdout",
     "output_type": "stream",
     "text": [
      "Finished feature extraction from  1551  files\n"
     ]
    }
   ],
   "source": [
    "features = []\n",
    "for k,row in df_test.iterrows():\n",
    "    data = extract_features(row['filename'])\n",
    "    features.append([data])\n",
    "df_features_test = pd.DataFrame(features, columns=['feature'])\n",
    "print('Finished feature extraction from ', len(df_features_test), ' files')\n"
   ]
  },
  {
   "cell_type": "code",
   "execution_count": 66,
   "metadata": {},
   "outputs": [],
   "source": [
    "X_test = np.array(df_features_test.feature.tolist())\n",
    "X_test = X_test.reshape(X_test.shape[0], num_rows, num_columns, num_channels)"
   ]
  },
  {
   "cell_type": "code",
   "execution_count": 67,
   "metadata": {},
   "outputs": [],
   "source": [
    "y_prob = model.predict(X_test)\n",
    "y_classes = y_prob.argmax(axis=-1)\n"
   ]
  },
  {
   "cell_type": "code",
   "execution_count": 68,
   "metadata": {},
   "outputs": [
    {
     "data": {
      "text/plain": [
       "1551"
      ]
     },
     "execution_count": 68,
     "metadata": {},
     "output_type": "execute_result"
    }
   ],
   "source": [
    "len(X_test)"
   ]
  },
  {
   "cell_type": "code",
   "execution_count": 69,
   "metadata": {},
   "outputs": [
    {
     "data": {
      "text/plain": [
       "array([0, 0, 0, ..., 1, 1, 1])"
      ]
     },
     "execution_count": 69,
     "metadata": {},
     "output_type": "execute_result"
    }
   ],
   "source": [
    "y_classes"
   ]
  },
  {
   "cell_type": "code",
   "execution_count": 70,
   "metadata": {},
   "outputs": [],
   "source": [
    "df_test_['label'] = y_classes"
   ]
  },
  {
   "cell_type": "code",
   "execution_count": 71,
   "metadata": {},
   "outputs": [
    {
     "data": {
      "text/plain": [
       "'20191115_091534'"
      ]
     },
     "execution_count": 71,
     "metadata": {},
     "output_type": "execute_result"
    }
   ],
   "source": [
    "from datetime import datetime\n",
    "now = datetime.now() # current date and time\n",
    "timestamp = now.strftime(\"%Y%m%d_%H%M%S\")\n",
    "model_json = model.to_json()\n",
    "model.save_weights('data/%s_weights.hdf5' % timestamp)\n",
    "with open(\"data/%s_model.json\" % timestamp, \"w\") as json_file:\n",
    "    json_file.write(model_json)\n",
    "df_test_.to_csv('data/%s_res.csv' % timestamp, index=None, header=None)\n",
    "with open(\"data/%s_score.txt\" % timestamp, \"w\") as file:\n",
    "    scoring = \"validation acc: %f - training acc: %f - test acc %f:\" % (score_v[1], score_t[1], score_test[1])\n",
    "    file.write(scoring)\n",
    "\n",
    "timestamp"
   ]
  },
  {
   "cell_type": "code",
   "execution_count": null,
   "metadata": {},
   "outputs": [],
   "source": []
  },
  {
   "cell_type": "code",
   "execution_count": null,
   "metadata": {},
   "outputs": [],
   "source": []
  },
  {
   "cell_type": "code",
   "execution_count": null,
   "metadata": {},
   "outputs": [],
   "source": []
  },
  {
   "cell_type": "code",
   "execution_count": null,
   "metadata": {},
   "outputs": [],
   "source": []
  },
  {
   "cell_type": "code",
   "execution_count": null,
   "metadata": {},
   "outputs": [],
   "source": []
  },
  {
   "cell_type": "code",
   "execution_count": null,
   "metadata": {},
   "outputs": [],
   "source": []
  },
  {
   "cell_type": "code",
   "execution_count": null,
   "metadata": {},
   "outputs": [],
   "source": []
  }
 ],
 "metadata": {
  "kernelspec": {
   "display_name": "Python 3",
   "language": "python",
   "name": "python3"
  },
  "language_info": {
   "codemirror_mode": {
    "name": "ipython",
    "version": 3
   },
   "file_extension": ".py",
   "mimetype": "text/x-python",
   "name": "python",
   "nbconvert_exporter": "python",
   "pygments_lexer": "ipython3",
   "version": "3.6.5"
  }
 },
 "nbformat": 4,
 "nbformat_minor": 4
}
